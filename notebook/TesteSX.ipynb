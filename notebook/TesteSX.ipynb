{
  "nbformat": 4,
  "nbformat_minor": 0,
  "metadata": {
    "colab": {
      "provenance": []
    },
    "kernelspec": {
      "name": "python3",
      "display_name": "Python 3"
    },
    "language_info": {
      "name": "python"
    }
  },
  "cells": [
    {
      "cell_type": "markdown",
      "source": [
        "**TESTE DE ANALISTA DE DADOS - SX NEGOCIOS**\n",
        "\n",
        "  Roberto Souza\n",
        "\n",
        "\n",
        "---\n",
        "<br>\n",
        "\n",
        "  **Preparação**:  \n",
        "      Como todo o desenvolvimento foi realizado no COLAB, e assim que reiniciado, o google limpa os arquivos que foram feitos uploads.\n",
        "      *Assim é necessario colocar o arquivo Microdados no ./content/*\n",
        "\n",
        "<br>\n",
        "---\n",
        "\n",
        "  \n",
        "  **Ferramentas Utilizadas**:\n",
        "* Google Colab\n",
        "      Python, PySpark, SQL e Pandas (Para leitura, tratamento de dados, queries, gravação de arquivos);  \n",
        "      Shutil e OS (Compactação de arquivos .zip)  \n",
        "\n",
        "* Workbench  \n",
        "      Criação da Modelagem  \n",
        "\n",
        "* PowerBI  \n",
        "      Criação das visualizações\n",
        "\n",
        "\n",
        "---\n",
        "\n",
        "  **Observações**:   \n",
        "      os arquivos foram salvo em parquet e csv;\n",
        "      um para melhor utilizar no python e outro para ser carregado no dataviz.\n",
        "\n",
        "---      "
      ],
      "metadata": {
        "id": "av_BPdHGeG1I"
      }
    },
    {
      "cell_type": "markdown",
      "source": [
        "> Inicio do codigo"
      ],
      "metadata": {
        "id": "6rqz5DyRnKzw"
      }
    },
    {
      "cell_type": "code",
      "source": [
        "# Calculando o tempo de execução\n",
        "from datetime import datetime\n",
        "inicio = datetime.now()"
      ],
      "metadata": {
        "id": "uXONjPHrnIBU"
      },
      "execution_count": 1,
      "outputs": []
    },
    {
      "cell_type": "code",
      "execution_count": 2,
      "metadata": {
        "id": "UKTwRT8mXWUj"
      },
      "outputs": [],
      "source": [
        "# Importando bibliotecas\n",
        "import numpy as np\n",
        "import pandas as pd\n",
        "import shutil\n",
        "import os"
      ]
    },
    {
      "cell_type": "code",
      "source": [
        "#Instalando o pyspark\n",
        "!pip install pyspark"
      ],
      "metadata": {
        "colab": {
          "base_uri": "https://localhost:8080/"
        },
        "id": "kTDO150cPGji",
        "outputId": "17cf34b1-dfa9-4979-b7f8-803f5fd92cd8"
      },
      "execution_count": 3,
      "outputs": [
        {
          "output_type": "stream",
          "name": "stdout",
          "text": [
            "Collecting pyspark\n",
            "  Downloading pyspark-3.5.0.tar.gz (316.9 MB)\n",
            "\u001b[2K     \u001b[90m━━━━━━━━━━━━━━━━━━━━━━━━━━━━━━━━━━━━━━━━\u001b[0m \u001b[32m316.9/316.9 MB\u001b[0m \u001b[31m4.3 MB/s\u001b[0m eta \u001b[36m0:00:00\u001b[0m\n",
            "\u001b[?25h  Preparing metadata (setup.py) ... \u001b[?25l\u001b[?25hdone\n",
            "Requirement already satisfied: py4j==0.10.9.7 in /usr/local/lib/python3.10/dist-packages (from pyspark) (0.10.9.7)\n",
            "Building wheels for collected packages: pyspark\n",
            "  Building wheel for pyspark (setup.py) ... \u001b[?25l\u001b[?25hdone\n",
            "  Created wheel for pyspark: filename=pyspark-3.5.0-py2.py3-none-any.whl size=317425345 sha256=2ab849882e3e5732739a9d16d62f8097d7aa42041405a82970901f942ea57fbd\n",
            "  Stored in directory: /root/.cache/pip/wheels/41/4e/10/c2cf2467f71c678cfc8a6b9ac9241e5e44a01940da8fbb17fc\n",
            "Successfully built pyspark\n",
            "Installing collected packages: pyspark\n",
            "Successfully installed pyspark-3.5.0\n"
          ]
        }
      ]
    },
    {
      "cell_type": "code",
      "source": [
        "#importando pyspark\n",
        "from pyspark import SparkContext\n",
        "from pyspark.sql import SparkSession\n",
        "from pyspark.sql.functions import col, greatest, expr"
      ],
      "metadata": {
        "id": "5x5jjHRxTliu"
      },
      "execution_count": 4,
      "outputs": []
    },
    {
      "cell_type": "code",
      "source": [
        "#criando sessão do spark\n",
        "sc = SparkContext.getOrCreate()\n",
        "spark = SparkSession(sc)"
      ],
      "metadata": {
        "id": "pWKK8XZ0TrhA"
      },
      "execution_count": 5,
      "outputs": []
    },
    {
      "cell_type": "code",
      "source": [],
      "metadata": {
        "id": "oHXlM-AwTroo"
      },
      "execution_count": 5,
      "outputs": []
    },
    {
      "cell_type": "code",
      "source": [
        "# definindo diretorios\n",
        "dir_raw = './raw/'\n",
        "dir_proc = './proc/'"
      ],
      "metadata": {
        "id": "OTVbdpArUHPH"
      },
      "execution_count": 6,
      "outputs": []
    },
    {
      "cell_type": "markdown",
      "source": [
        "Preparação:    \n",
        "  Como foi realizado em COLAB e assim que reiniciado o google limpa os arquivos. É necessario colocar o arquivo Microdados no ./content"
      ],
      "metadata": {
        "id": "DVvyNg1pzhlH"
      }
    },
    {
      "cell_type": "code",
      "source": [
        "# carregando o arquivo do upload e gravando uma copia em parquet\n",
        "df_enem = spark.read.option('encoding', 'latin1').csv(f'./MICRODADOS_ENEM_2020.csv', sep=';', header=True)\n",
        "df_enem.write.mode('overwrite').parquet(dir_raw + \"enem/\")"
      ],
      "metadata": {
        "id": "TcXxusf2Trro"
      },
      "execution_count": 7,
      "outputs": []
    },
    {
      "cell_type": "code",
      "source": [
        "# carregando o arquivo parquet\n",
        "df_enem_raw = spark.read.load(path= dir_raw + 'enem/*.parquet', format='parquet')"
      ],
      "metadata": {
        "id": "iUNMUX_PZv9X"
      },
      "execution_count": 8,
      "outputs": []
    },
    {
      "cell_type": "code",
      "source": [
        "# amostra do dataset\n",
        "df_enem_raw.show(5)"
      ],
      "metadata": {
        "colab": {
          "base_uri": "https://localhost:8080/"
        },
        "id": "rSoZQrv_nd1B",
        "outputId": "9befac8e-6757-454a-8454-7001ea86f87a"
      },
      "execution_count": 9,
      "outputs": [
        {
          "output_type": "stream",
          "name": "stdout",
          "text": [
            "+------------+------+---------------+-------+---------------+-----------+----------------+---------------+---------------+---------+---------+------------+----------------+-------------------+---------+---------+----------------------+------------------+---------------+------------------+-------------------+-----------+-----------+--------------+--------------+--------------+--------------+-----------+-----------+-----------+-----------+----------+----------+----------+----------+--------------------+--------------------+--------------------+--------------------+---------+--------------------+--------------------+--------------------+--------------------+-----------------+-------------+-------------+-------------+-------------+-------------+---------------+----+----+----+----+----+----+----+----+----+----+----+----+----+----+----+----+----+----+----+----+----+----+----+----+----+\n",
            "|NU_INSCRICAO|NU_ANO|TP_FAIXA_ETARIA|TP_SEXO|TP_ESTADO_CIVIL|TP_COR_RACA|TP_NACIONALIDADE|TP_ST_CONCLUSAO|TP_ANO_CONCLUIU|TP_ESCOLA|TP_ENSINO|IN_TREINEIRO|CO_MUNICIPIO_ESC|   NO_MUNICIPIO_ESC|CO_UF_ESC|SG_UF_ESC|TP_DEPENDENCIA_ADM_ESC|TP_LOCALIZACAO_ESC|TP_SIT_FUNC_ESC|CO_MUNICIPIO_PROVA| NO_MUNICIPIO_PROVA|CO_UF_PROVA|SG_UF_PROVA|TP_PRESENCA_CN|TP_PRESENCA_CH|TP_PRESENCA_LC|TP_PRESENCA_MT|CO_PROVA_CN|CO_PROVA_CH|CO_PROVA_LC|CO_PROVA_MT|NU_NOTA_CN|NU_NOTA_CH|NU_NOTA_LC|NU_NOTA_MT|     TX_RESPOSTAS_CN|     TX_RESPOSTAS_CH|     TX_RESPOSTAS_LC|     TX_RESPOSTAS_MT|TP_LINGUA|      TX_GABARITO_CN|      TX_GABARITO_CH|      TX_GABARITO_LC|      TX_GABARITO_MT|TP_STATUS_REDACAO|NU_NOTA_COMP1|NU_NOTA_COMP2|NU_NOTA_COMP3|NU_NOTA_COMP4|NU_NOTA_COMP5|NU_NOTA_REDACAO|Q001|Q002|Q003|Q004|Q005|Q006|Q007|Q008|Q009|Q010|Q011|Q012|Q013|Q014|Q015|Q016|Q017|Q018|Q019|Q020|Q021|Q022|Q023|Q024|Q025|\n",
            "+------------+------+---------------+-------+---------------+-----------+----------------+---------------+---------------+---------+---------+------------+----------------+-------------------+---------+---------+----------------------+------------------+---------------+------------------+-------------------+-----------+-----------+--------------+--------------+--------------+--------------+-----------+-----------+-----------+-----------+----------+----------+----------+----------+--------------------+--------------------+--------------------+--------------------+---------+--------------------+--------------------+--------------------+--------------------+-----------------+-------------+-------------+-------------+-------------+-------------+---------------+----+----+----+----+----+----+----+----+----+----+----+----+----+----+----+----+----+----+----+----+----+----+----+----+----+\n",
            "|200006271946|  2020|             11|      F|              1|          2|               1|              1|             11|        1|     NULL|           0|            NULL|               NULL|     NULL|     NULL|                  NULL|              NULL|           NULL|           1501402|              Belém|         15|         PA|             0|             0|             0|             0|       NULL|       NULL|       NULL|       NULL|      NULL|      NULL|      NULL|      NULL|                NULL|                NULL|                NULL|                NULL|        1|                NULL|                NULL|                NULL|                NULL|             NULL|         NULL|         NULL|         NULL|         NULL|         NULL|           NULL|NULL|NULL|NULL|NULL|NULL|NULL|NULL|NULL|NULL|NULL|NULL|NULL|NULL|NULL|NULL|NULL|NULL|NULL|NULL|NULL|NULL|NULL|NULL|NULL|NULL|\n",
            "|200001195856|  2020|             11|      M|              2|          3|               1|              1|             11|        1|     NULL|           0|            NULL|               NULL|     NULL|     NULL|                  NULL|              NULL|           NULL|           2408102|              Natal|         24|         RN|             1|             1|             1|             1|        702|        689|        693|        698|     604.1|     661.7|     595.3|     711.3|BCBDBDCCCDBDDBADE...|BCAECABCDCEBDBBBD...|99999CADDEDADBAAB...|EBEBDEDAECBADCADD...|        1|ABBACBCCCDDDDBAEE...|BCEECDBCCDEBDBBBB...|99999CBDDEDBDBACE...|BBEADECAECBBXCEBA...|                1|          120|          120|          120|          120|          100|            580|NULL|NULL|NULL|NULL|NULL|NULL|NULL|NULL|NULL|NULL|NULL|NULL|NULL|NULL|NULL|NULL|NULL|NULL|NULL|NULL|NULL|NULL|NULL|NULL|NULL|\n",
            "|200001943954|  2020|              4|      F|              2|          3|               2|              2|              0|        2|        1|           0|         2927408|           Salvador|       29|       BA|                     2|                 1|              1|           2927408|           Salvador|         29|         BA|             0|             0|             0|             0|       NULL|       NULL|       NULL|       NULL|      NULL|      NULL|      NULL|      NULL|                NULL|                NULL|                NULL|                NULL|        0|                NULL|                NULL|                NULL|                NULL|             NULL|         NULL|         NULL|         NULL|         NULL|         NULL|           NULL|   B|   C|   A|   D|   3|   B|   A|   B|   A|   A|   A|   B|   A|   B|   A|   B|   A|   A|   B|   A|   A|   A|   A|   A|   A|\n",
            "|200001908998|  2020|              2|      M|              1|          3|               1|              2|              0|        2|        1|           0|         3547304|Santana de Parnaíba|       35|       SP|                     3|                 1|              1|           3547304|Santana de Parnaíba|         35|         SP|             1|             1|             1|             1|        700|        688|        692|        696|     620.8|       675|     624.2|     759.4|EBEDCCCDCBDBAECAE...|DABCCACCBCCDCADBD...|DCEAB99999AADAECC...|CBDBDCCDDEECBAABB...|        0|BDECCACBEBDEAEDAE...|DABCCAECBABECADBD...|DCEAD99999AADACCC...|EBDBXCCDAEECBAABA...|                1|          140|          200|          140|          120|          160|            760|NULL|NULL|NULL|NULL|NULL|NULL|NULL|NULL|NULL|NULL|NULL|NULL|NULL|NULL|NULL|NULL|NULL|NULL|NULL|NULL|NULL|NULL|NULL|NULL|NULL|\n",
            "|200001634757|  2020|              4|      F|              1|          3|               2|              1|              1|        1|     NULL|           0|            NULL|               NULL|     NULL|     NULL|                  NULL|              NULL|           NULL|           3121605|         Diamantina|         31|         MG|             0|             0|             0|             0|       NULL|       NULL|       NULL|       NULL|      NULL|      NULL|      NULL|      NULL|                NULL|                NULL|                NULL|                NULL|        1|                NULL|                NULL|                NULL|                NULL|             NULL|         NULL|         NULL|         NULL|         NULL|         NULL|           NULL|   B|   G|   B|   B|   3|   B|   A|   B|   D|   A|   A|   B|   A|   B|   A|   A|   A|   A|   B|   A|   B|   B|   A|   A|   B|\n",
            "+------------+------+---------------+-------+---------------+-----------+----------------+---------------+---------------+---------+---------+------------+----------------+-------------------+---------+---------+----------------------+------------------+---------------+------------------+-------------------+-----------+-----------+--------------+--------------+--------------+--------------+-----------+-----------+-----------+-----------+----------+----------+----------+----------+--------------------+--------------------+--------------------+--------------------+---------+--------------------+--------------------+--------------------+--------------------+-----------------+-------------+-------------+-------------+-------------+-------------+---------------+----+----+----+----+----+----+----+----+----+----+----+----+----+----+----+----+----+----+----+----+----+----+----+----+----+\n",
            "only showing top 5 rows\n",
            "\n"
          ]
        }
      ]
    },
    {
      "cell_type": "code",
      "source": [
        "# criando uma função para realização de queries\n",
        "# PARAM = query e numero de linhas a serem retornadas\n",
        "def fn_query(qry, snum):\n",
        "    return spark.sql(qry).show(n = snum, truncate=False)"
      ],
      "metadata": {
        "id": "t-1CXhuHZxwr"
      },
      "execution_count": 10,
      "outputs": []
    },
    {
      "cell_type": "code",
      "source": [
        "# Criando uma View temporaria\n",
        "df_enem_raw.createOrReplaceTempView(\"VW_ENEM\")"
      ],
      "metadata": {
        "id": "UG9RZ5S_aGs1"
      },
      "execution_count": 11,
      "outputs": []
    },
    {
      "cell_type": "code",
      "source": [
        "# Realizando um tratamento em SQL manipulando o dataset de acordo com o dicionario de dados\n",
        "# e gravando na view criada\n",
        "dataset_enem = spark.sql(\"\"\"\n",
        "\n",
        "    SELECT\n",
        "\n",
        "    BIGINT(NU_INSCRICAO) AS NU_INSCRICAO,\n",
        "    BIGINT(NU_ANO) AS NU_ANO,\n",
        "\n",
        "    TP_FAIXA_ETARIA AS COD_FAIXA_ETARIA,\n",
        "    CASE\n",
        "      WHEN TP_FAIXA_ETARIA = 1 THEN 'Menor de 17 anos'\n",
        "      WHEN TP_FAIXA_ETARIA = 2 THEN '17 anos'\n",
        "      WHEN TP_FAIXA_ETARIA = 3 THEN '18 anos'\n",
        "      WHEN TP_FAIXA_ETARIA = 4 THEN '19 anos'\n",
        "      WHEN TP_FAIXA_ETARIA = 5 THEN '20 anos'\n",
        "      WHEN TP_FAIXA_ETARIA = 6 THEN '21 anos'\n",
        "      WHEN TP_FAIXA_ETARIA = 7 THEN '22 anos'\n",
        "      WHEN TP_FAIXA_ETARIA = 8 THEN '23 anos'\n",
        "      WHEN TP_FAIXA_ETARIA = 9 THEN '24 anos'\n",
        "      WHEN TP_FAIXA_ETARIA = 10 THEN '25 anos'\n",
        "      WHEN TP_FAIXA_ETARIA = 11 THEN 'Entre 26 e 30 anos'\n",
        "      WHEN TP_FAIXA_ETARIA = 12 THEN 'Entre 31 e 35 anos'\n",
        "      WHEN TP_FAIXA_ETARIA = 13 THEN 'Entre 36 e 40 anos'\n",
        "      WHEN TP_FAIXA_ETARIA = 14 THEN 'Entre 41 e 45 anos'\n",
        "      WHEN TP_FAIXA_ETARIA = 15 THEN 'Entre 46 e 50 anos'\n",
        "      WHEN TP_FAIXA_ETARIA = 16 THEN 'Entre 51 e 55 anos'\n",
        "      WHEN TP_FAIXA_ETARIA = 17 THEN 'Entre 56 e 60 anos'\n",
        "      WHEN TP_FAIXA_ETARIA = 18 THEN 'Entre 61 e 65 anos'\n",
        "      WHEN TP_FAIXA_ETARIA = 19 THEN 'Entre 66 e 70 anos'\n",
        "      WHEN TP_FAIXA_ETARIA = 20 THEN 'Maior de 70 anos'\n",
        "    END NOM_FAIXA_ETARIA,\n",
        "\n",
        "    CASE\n",
        "      WHEN TP_SEXO = 'F' THEN 1\n",
        "      WHEN TP_SEXO = 'M' THEN 2\n",
        "      ELSE -1\n",
        "    END COD_TP_SEXO,\n",
        "    TP_SEXO AS SIG_SEXO,\n",
        "    CASE\n",
        "      WHEN TP_SEXO = 'F' THEN 'Feminino'\n",
        "      WHEN TP_SEXO = 'M' THEN 'Masculino'\n",
        "      ELSE 'Não Preenchido'\n",
        "    END NOM_SEXO,\n",
        "\n",
        "    IFNULL(INT(TP_ESTADO_CIVIL), -1) AS COD_ESTADO_CIVIL,\n",
        "    CASE\n",
        "      WHEN TP_ESTADO_CIVIL = 0 THEN 'Não informado'\n",
        "      WHEN TP_ESTADO_CIVIL = 1 THEN 'Solteiro(a)'\n",
        "      WHEN TP_ESTADO_CIVIL = 2 THEN 'Casado(a)/Mora com companheiro(a)'\n",
        "      WHEN TP_ESTADO_CIVIL = 3 THEN 'Divorciado(a)/Desquitado(a)/Separado(a)'\n",
        "      WHEN TP_ESTADO_CIVIL = 4 THEN 'Viúvo(a)'\n",
        "      END NOM_ESTADO_CIVIL,\n",
        "\n",
        "    IFNULL(INT(TP_NACIONALIDADE), -1) AS COD_NACIONALIDADE,\n",
        "    CASE\n",
        "      WHEN TP_NACIONALIDADE = 0 THEN 'Não informado'\n",
        "      WHEN TP_NACIONALIDADE = 1 THEN 'Brasileiro(a)'\n",
        "      WHEN TP_NACIONALIDADE = 2 THEN 'Brasileiro(a) Naturalizado(a)'\n",
        "      WHEN TP_NACIONALIDADE = 3 THEN 'Estrangeiro(a)'\n",
        "      WHEN TP_NACIONALIDADE = 4 THEN 'Brasileiro(a) Nato(a), nascido(a) no exterior'\n",
        "    END AS NOM_NACIONALIDADE,\n",
        "\n",
        "    IFNULL(INT(TP_COR_RACA), -1) AS COD_RACA,\n",
        "    CASE\n",
        "      WHEN TP_COR_RACA = 0 THEN 'Não declarado'\n",
        "      WHEN TP_COR_RACA = 1 THEN 'Branca'\n",
        "      WHEN TP_COR_RACA = 2 THEN 'Preta'\n",
        "      WHEN TP_COR_RACA = 3 THEN 'Parda'\n",
        "      WHEN TP_COR_RACA = 4 THEN 'Amarela'\n",
        "      WHEN TP_COR_RACA = 5 THEN 'Indígena'\n",
        "    END NOM_COR_RACA,\n",
        "\n",
        "    IFNULL(INT(TP_ESCOLA), -1) AS COD_ESCOLA,\n",
        "    CASE\n",
        "      WHEN TP_ESCOLA = 1 THEN 'Não Respondeu'\n",
        "      WHEN TP_ESCOLA = 2 THEN 'Pública'\n",
        "      WHEN TP_ESCOLA = 3 THEN 'Privada'\n",
        "      WHEN TP_ESCOLA = 4 THEN 'Exterior'\n",
        "    END NOM_ESCOLA,\n",
        "    IFNULL(INT(TP_ENSINO), -1) AS COD_ENSINO,\n",
        "    CASE\n",
        "      WHEN TP_ENSINO = 1 THEN 'Ensino Regular'\n",
        "      WHEN TP_ENSINO = 2 THEN 'Educação Especial - Modalidade Substitutiva'\n",
        "      WHEN TP_ENSINO = 3 THEN 'Educação de Jovens e Adultos'\n",
        "      ELSE 'Não Respondeu'\n",
        "    END NOM_ENSINO,\n",
        "\n",
        "    IFNULL(INT(TP_ST_CONCLUSAO), -1) AS COD_ST_CONCLUSAO,\n",
        "    CASE\n",
        "      WHEN TP_ST_CONCLUSAO = 1 THEN 'Já concluí o Ensino Médio'\n",
        "      WHEN TP_ST_CONCLUSAO = 2 THEN 'Estou cursando e concluirei o Ensino Médio em 2020'\n",
        "      WHEN TP_ST_CONCLUSAO = 3 THEN 'Estou cursando e concluirei o Ensino Médio após 2020'\n",
        "      WHEN TP_ST_CONCLUSAO = 4 THEN 'Não concluí e não estou cursando o Ensino Médio'\n",
        "      ELSE 'Não Respondeu'\n",
        "    END NOM_ST_CONCLUSAO,\n",
        "\n",
        "    IFNULL(INT(CO_MUNICIPIO_ESC), -1) AS COD_MUNICIPIO_ESC,\n",
        "    IFNULL(NO_MUNICIPIO_ESC, 'Não Respondeu') AS NOM_MUNICIPIO_ESC,\n",
        "    IFNULL(INT(CO_UF_ESC), -1) AS COD_UF_ESC,\n",
        "    IFNULL(SG_UF_ESC, 'Não Respondeu') AS SIG_UF_ESC,\n",
        "    IFNULL(INT(TP_LOCALIZACAO_ESC), -1) AS COD_LOCALIZACAO_ESC,\n",
        "    CASE\n",
        "        WHEN TP_LOCALIZACAO_ESC = 1 THEN 'Urbana'\n",
        "        WHEN TP_LOCALIZACAO_ESC = 2 THEN 'Rural'\n",
        "        ELSE 'Não Respondeu'\n",
        "    END NOM_LOCALIZACAO_ESC,\n",
        "    IFNULL(INT(TP_SIT_FUNC_ESC), -1) AS COD_SIT_FUNC_ESC,\n",
        "    CASE\n",
        "         WHEN TP_SIT_FUNC_ESC = 1 THEN 'Em atividade'\n",
        "         WHEN TP_SIT_FUNC_ESC = 2 THEN 'Paralisada'\n",
        "         WHEN TP_SIT_FUNC_ESC = 3 THEN 'Extinta'\n",
        "         WHEN TP_SIT_FUNC_ESC = 4 THEN 'Escola extinta em anos anteriores'\n",
        "        ELSE 'Não Respondeu'\n",
        "    END NOM_SIT_FUNC_ESC,\n",
        "\n",
        "    IFNULL(INT(TP_DEPENDENCIA_ADM_ESC), -1) AS COD_DEPENDENCIA_ADM_ESC,\n",
        "     CASE\n",
        "         WHEN TP_DEPENDENCIA_ADM_ESC = 1 THEN 'Federal'\n",
        "         WHEN TP_DEPENDENCIA_ADM_ESC = 2 THEN 'Estadual'\n",
        "         WHEN TP_DEPENDENCIA_ADM_ESC = 3 THEN 'Municipal'\n",
        "         WHEN TP_DEPENDENCIA_ADM_ESC = 4 THEN 'Privada'\n",
        "        ELSE 'Não Respondeu'\n",
        "    END NOM_DEPENDENCIA_ADM_ESC,\n",
        "\n",
        "\n",
        "    IFNULL(INT(IN_TREINEIRO), -1) AS COD_TREINEIRO,\n",
        "    CASE\n",
        "         WHEN IN_TREINEIRO = 1 THEN 'Sim'\n",
        "         WHEN IN_TREINEIRO = 0 THEN 'Não'\n",
        "    END NOM_TREINEIRO,\n",
        "\n",
        "    IFNULL(INT(CO_MUNICIPIO_PROVA), -1) AS COD_MUNICIPIO_PROVA,\n",
        "    IFNULL(NO_MUNICIPIO_PROVA, 'Não Respondeu') AS NOM_MUNICIPIO_PROVA,\n",
        "    IFNULL(INT(CO_UF_PROVA), -1) AS COD_UF_PROVA,\n",
        "    IFNULL(SG_UF_PROVA, 'Não Respondeu') AS SIG_UF_PROVA,\n",
        "\n",
        "\n",
        "    FLOAT(NU_NOTA_REDACAO) NU_NOTA_REDACAO,\n",
        "    FLOAT(NU_NOTA_CN) NU_NOTA_CN,\n",
        "    FLOAT(NU_NOTA_CH) NU_NOTA_CH,\n",
        "    FLOAT(NU_NOTA_LC) NU_NOTA_LC,\n",
        "    FLOAT(NU_NOTA_MT) NU_NOTA_MT,\n",
        "\n",
        "    INT(TP_PRESENCA_CN) AS COD_PRESENCA_CN,\n",
        "    INT(TP_PRESENCA_CH) AS COD_PRESENCA_CH,\n",
        "    INT(TP_PRESENCA_LC) AS COD_PRESENCA_LC,\n",
        "    INT(TP_PRESENCA_MT) AS COD_PRESENCA_MT,\n",
        "\n",
        "    IFNULL(Q001, -1 ) as Q001,\n",
        "    IFNULL(Q002, -1 ) as Q002,\n",
        "    IFNULL(Q003, -1 ) as Q003,\n",
        "    IFNULL(Q004, -1 ) as Q004,\n",
        "    IFNULL(Q005, -1 ) as Q005,\n",
        "    IFNULL(Q006, -1 ) as Q006,\n",
        "    IFNULL(Q007, -1 ) as Q007,\n",
        "    IFNULL(Q008, -1 ) as Q008,\n",
        "    IFNULL(Q009, -1 ) as Q009,\n",
        "    IFNULL(Q010, -1 ) as Q010,\n",
        "    IFNULL(Q011, -1 ) as Q011,\n",
        "    IFNULL(Q012, -1 ) as Q012,\n",
        "    IFNULL(Q013, -1 ) as Q013,\n",
        "    IFNULL(Q014, -1 ) as Q014,\n",
        "    IFNULL(Q015, -1 ) as Q015,\n",
        "    IFNULL(Q016, -1 ) as Q016,\n",
        "    IFNULL(Q017, -1 ) as Q017,\n",
        "    IFNULL(Q018, -1 ) as Q018,\n",
        "    IFNULL(Q019, -1 ) as Q019,\n",
        "    IFNULL(Q020, -1 ) as Q020,\n",
        "    IFNULL(Q021, -1 ) as Q021,\n",
        "    IFNULL(Q022, -1 ) as Q022,\n",
        "    IFNULL(Q023, -1 ) as Q023,\n",
        "    IFNULL(Q024, -1 ) as Q024,\n",
        "    IFNULL(Q025, -1 ) as Q025\n",
        "\n",
        "     FROM VW_ENEM\n",
        "\n",
        "\"\"\")\n"
      ],
      "metadata": {
        "id": "RpMbzpxSaG9A"
      },
      "execution_count": 12,
      "outputs": []
    },
    {
      "cell_type": "code",
      "source": [
        "#dataset_enem.printSchema()\n",
        "\n",
        "# gravando arquivo processado\n",
        "dataset_enem.write.mode('overwrite').parquet(dir_proc + \"enem/\")"
      ],
      "metadata": {
        "id": "JWUG5kb2aG_M"
      },
      "execution_count": 13,
      "outputs": []
    },
    {
      "cell_type": "code",
      "source": [
        "# carregando arquivo processado\n",
        "dataset_enem_01 = spark.read.load(path = dir_proc + 'enem/*.parquet', format='parquet')\n",
        "dataset_enem_01.limit(5).show()"
      ],
      "metadata": {
        "id": "E8rpkJeOix2A",
        "colab": {
          "base_uri": "https://localhost:8080/"
        },
        "outputId": "0502c4ef-a660-4c3a-d972-4d976747c3d2"
      },
      "execution_count": 14,
      "outputs": [
        {
          "output_type": "stream",
          "name": "stdout",
          "text": [
            "+------------+------+----------------+------------------+-----------+--------+---------+----------------+--------------------+-----------------+--------------------+--------+------------+----------+-------------+----------+--------------+----------------+--------------------+-----------------+-------------------+----------+-------------+-------------------+-------------------+----------------+----------------+-----------------------+-----------------------+-------------+-------------+-------------------+-------------------+------------+------------+---------------+----------+----------+----------+----------+---------------+---------------+---------------+---------------+----+----+----+----+----+----+----+----+----+----+----+----+----+----+----+----+----+----+----+----+----+----+----+----+----+\n",
            "|NU_INSCRICAO|NU_ANO|COD_FAIXA_ETARIA|  NOM_FAIXA_ETARIA|COD_TP_SEXO|SIG_SEXO| NOM_SEXO|COD_ESTADO_CIVIL|    NOM_ESTADO_CIVIL|COD_NACIONALIDADE|   NOM_NACIONALIDADE|COD_RACA|NOM_COR_RACA|COD_ESCOLA|   NOM_ESCOLA|COD_ENSINO|    NOM_ENSINO|COD_ST_CONCLUSAO|    NOM_ST_CONCLUSAO|COD_MUNICIPIO_ESC|  NOM_MUNICIPIO_ESC|COD_UF_ESC|   SIG_UF_ESC|COD_LOCALIZACAO_ESC|NOM_LOCALIZACAO_ESC|COD_SIT_FUNC_ESC|NOM_SIT_FUNC_ESC|COD_DEPENDENCIA_ADM_ESC|NOM_DEPENDENCIA_ADM_ESC|COD_TREINEIRO|NOM_TREINEIRO|COD_MUNICIPIO_PROVA|NOM_MUNICIPIO_PROVA|COD_UF_PROVA|SIG_UF_PROVA|NU_NOTA_REDACAO|NU_NOTA_CN|NU_NOTA_CH|NU_NOTA_LC|NU_NOTA_MT|COD_PRESENCA_CN|COD_PRESENCA_CH|COD_PRESENCA_LC|COD_PRESENCA_MT|Q001|Q002|Q003|Q004|Q005|Q006|Q007|Q008|Q009|Q010|Q011|Q012|Q013|Q014|Q015|Q016|Q017|Q018|Q019|Q020|Q021|Q022|Q023|Q024|Q025|\n",
            "+------------+------+----------------+------------------+-----------+--------+---------+----------------+--------------------+-----------------+--------------------+--------+------------+----------+-------------+----------+--------------+----------------+--------------------+-----------------+-------------------+----------+-------------+-------------------+-------------------+----------------+----------------+-----------------------+-----------------------+-------------+-------------+-------------------+-------------------+------------+------------+---------------+----------+----------+----------+----------+---------------+---------------+---------------+---------------+----+----+----+----+----+----+----+----+----+----+----+----+----+----+----+----+----+----+----+----+----+----+----+----+----+\n",
            "|200006271946|  2020|              11|Entre 26 e 30 anos|          1|       F| Feminino|               1|         Solteiro(a)|                1|       Brasileiro(a)|       2|       Preta|         1|Não Respondeu|        -1| Não Respondeu|               1|Já concluí o Ensi...|               -1|      Não Respondeu|        -1|Não Respondeu|                 -1|      Não Respondeu|              -1|   Não Respondeu|                     -1|          Não Respondeu|            0|          Não|            1501402|              Belém|          15|          PA|           NULL|      NULL|      NULL|      NULL|      NULL|              0|              0|              0|              0|  -1|  -1|  -1|  -1|  -1|  -1|  -1|  -1|  -1|  -1|  -1|  -1|  -1|  -1|  -1|  -1|  -1|  -1|  -1|  -1|  -1|  -1|  -1|  -1|  -1|\n",
            "|200001195856|  2020|              11|Entre 26 e 30 anos|          2|       M|Masculino|               2|Casado(a)/Mora co...|                1|       Brasileiro(a)|       3|       Parda|         1|Não Respondeu|        -1| Não Respondeu|               1|Já concluí o Ensi...|               -1|      Não Respondeu|        -1|Não Respondeu|                 -1|      Não Respondeu|              -1|   Não Respondeu|                     -1|          Não Respondeu|            0|          Não|            2408102|              Natal|          24|          RN|          580.0|     604.1|     661.7|     595.3|     711.3|              1|              1|              1|              1|  -1|  -1|  -1|  -1|  -1|  -1|  -1|  -1|  -1|  -1|  -1|  -1|  -1|  -1|  -1|  -1|  -1|  -1|  -1|  -1|  -1|  -1|  -1|  -1|  -1|\n",
            "|200001943954|  2020|               4|           19 anos|          1|       F| Feminino|               2|Casado(a)/Mora co...|                2|Brasileiro(a) Nat...|       3|       Parda|         2|      Pública|         1|Ensino Regular|               2|Estou cursando e ...|          2927408|           Salvador|        29|           BA|                  1|             Urbana|               1|    Em atividade|                      2|               Estadual|            0|          Não|            2927408|           Salvador|          29|          BA|           NULL|      NULL|      NULL|      NULL|      NULL|              0|              0|              0|              0|   B|   C|   A|   D|   3|   B|   A|   B|   A|   A|   A|   B|   A|   B|   A|   B|   A|   A|   B|   A|   A|   A|   A|   A|   A|\n",
            "|200001908998|  2020|               2|           17 anos|          2|       M|Masculino|               1|         Solteiro(a)|                1|       Brasileiro(a)|       3|       Parda|         2|      Pública|         1|Ensino Regular|               2|Estou cursando e ...|          3547304|Santana de Parnaíba|        35|           SP|                  1|             Urbana|               1|    Em atividade|                      3|              Municipal|            0|          Não|            3547304|Santana de Parnaíba|          35|          SP|          760.0|     620.8|     675.0|     624.2|     759.4|              1|              1|              1|              1|  -1|  -1|  -1|  -1|  -1|  -1|  -1|  -1|  -1|  -1|  -1|  -1|  -1|  -1|  -1|  -1|  -1|  -1|  -1|  -1|  -1|  -1|  -1|  -1|  -1|\n",
            "|200001634757|  2020|               4|           19 anos|          1|       F| Feminino|               1|         Solteiro(a)|                2|Brasileiro(a) Nat...|       3|       Parda|         1|Não Respondeu|        -1| Não Respondeu|               1|Já concluí o Ensi...|               -1|      Não Respondeu|        -1|Não Respondeu|                 -1|      Não Respondeu|              -1|   Não Respondeu|                     -1|          Não Respondeu|            0|          Não|            3121605|         Diamantina|          31|          MG|           NULL|      NULL|      NULL|      NULL|      NULL|              0|              0|              0|              0|   B|   G|   B|   B|   3|   B|   A|   B|   D|   A|   A|   B|   A|   B|   A|   A|   A|   A|   B|   A|   B|   B|   A|   A|   B|\n",
            "+------------+------+----------------+------------------+-----------+--------+---------+----------------+--------------------+-----------------+--------------------+--------+------------+----------+-------------+----------+--------------+----------------+--------------------+-----------------+-------------------+----------+-------------+-------------------+-------------------+----------------+----------------+-----------------------+-----------------------+-------------+-------------+-------------------+-------------------+------------+------------+---------------+----------+----------+----------+----------+---------------+---------------+---------------+---------------+----+----+----+----+----+----+----+----+----+----+----+----+----+----+----+----+----+----+----+----+----+----+----+----+----+\n",
            "\n"
          ]
        }
      ]
    },
    {
      "cell_type": "code",
      "source": [
        "# ver todos os nomes de columas para facilitar posteriormente\n",
        "# e para verificar descomentar a linha abaixo\n",
        "\n",
        "#dataset_enem_01.columns"
      ],
      "metadata": {
        "id": "5KQ_A4zYix7N"
      },
      "execution_count": 15,
      "outputs": []
    },
    {
      "cell_type": "markdown",
      "source": [
        "Criando Dimensões e Fatos\n"
      ],
      "metadata": {
        "id": "7m0-oAji1_Nh"
      }
    },
    {
      "cell_type": "code",
      "source": [
        "# criar dimensões com campos unicos\n",
        "\n",
        "# criando dimensões do participante\n",
        "dim_prt_situacao_escola = dataset_enem_01.select ('COD_ST_CONCLUSAO','NOM_ST_CONCLUSAO').distinct()\n",
        "dim_prt_faixa_etaria = dataset_enem_01.select ('COD_FAIXA_ETARIA','NOM_FAIXA_ETARIA').distinct()\n",
        "dim_prt_sexo = dataset_enem_01.select ('COD_TP_SEXO','SIG_SEXO','NOM_SEXO').distinct()\n",
        "dim_prt_estado_civil = dataset_enem_01.select ('COD_ESTADO_CIVIL','NOM_ESTADO_CIVIL').distinct()\n",
        "dim_prt_nacionalidade = dataset_enem_01.select ('COD_NACIONALIDADE','NOM_NACIONALIDADE').distinct()\n",
        "dim_prt_raca = dataset_enem_01.select ('COD_RACA','NOM_COR_RACA').distinct()\n",
        "\n",
        "dim_prt_escola = dataset_enem_01.select ('COD_ESCOLA','NOM_ESCOLA').distinct()\n",
        "dim_prt_ensino = dataset_enem_01.select ('COD_ENSINO','NOM_ENSINO').distinct()\n",
        "\n",
        "# criando dimensões da prova\n",
        "dim_prv_municipio = dataset_enem_01.select ('COD_MUNICIPIO_PROVA','NOM_MUNICIPIO_PROVA','COD_UF_PROVA','SIG_UF_PROVA').distinct()\n",
        "dim_prv_uf = dataset_enem_01.select ('COD_UF_PROVA','SIG_UF_PROVA').distinct()\n",
        "\n",
        "# criando dimensões da escola\n",
        "dim_esc_dependencia = dataset_enem_01.select ('COD_DEPENDENCIA_ADM_ESC','NOM_DEPENDENCIA_ADM_ESC').distinct()\n",
        "dim_esc_localizacao = dataset_enem_01.select ('COD_LOCALIZACAO_ESC','NOM_LOCALIZACAO_ESC').distinct()\n",
        "dim_esc_situacao = dataset_enem_01.select ('COD_SIT_FUNC_ESC','NOM_SIT_FUNC_ESC').distinct()\n",
        "dim_esc_uf = dataset_enem_01.select ('COD_UF_ESC','SIG_UF_ESC').distinct()\n",
        "\n",
        "# criando e unindo UF\n",
        "dim_uf = dim_esc_uf.union(dim_prv_uf).distinct()\n",
        "dim_uf = dim_uf.withColumnRenamed(\"COD_UF_ESC\",\"COD_UF\").withColumnRenamed(\"SIG_UF_ESC\",\"SIG_UF\")"
      ],
      "metadata": {
        "id": "8xW8DCoAix9U"
      },
      "execution_count": 16,
      "outputs": []
    },
    {
      "cell_type": "code",
      "source": [
        "#dim_uf.orderBy('COD_UF').show(50)"
      ],
      "metadata": {
        "id": "BjQ0jMygx10b"
      },
      "execution_count": 17,
      "outputs": []
    },
    {
      "cell_type": "code",
      "source": [
        "# criando dimensões do dicionario para auxiliar e realizar tambem a modelagem\n",
        "\n",
        "dim_presenca = spark.sql(\"\"\"\n",
        "    SELECT 0 AS COD_PRESENCA, 'Faltou à prova' AS NOM_PRESENCA UNION\n",
        "    SELECT 1 AS COD_PRESENCA, 'Presente na prova' AS NOM_PRESENCA UNION\n",
        "    SELECT 2 AS COD_PRESENCA, 'Eliminado na prova' AS NOM_PRESENCA\n",
        "\"\"\")\n",
        "\n",
        "dim_aux_r001e2 = spark.sql(\"\"\"\n",
        "    SELECT 'A' as COD_RESPOSTA, 'Nunca estudou.' NOM_RESPOSTA UNION\n",
        "    SELECT 'B' as COD_RESPOSTA, 'Não completou a 4ª série/5º ano do Ensino Fundamental.' NOM_RESPOSTA UNION\n",
        "    SELECT 'C' as COD_RESPOSTA, 'Completou a 4ª série/5º ano, mas não completou a 8ª série/9º ano do Ensino Fundamental.' NOM_RESPOSTA UNION\n",
        "    SELECT 'D' as COD_RESPOSTA, 'Completou a 8ª série/9º ano do Ensino Fundamental, mas não completou o Ensino Médio.' NOM_RESPOSTA UNION\n",
        "    SELECT 'E' as COD_RESPOSTA, 'Completou o Ensino Médio, mas não completou a Faculdade.' NOM_RESPOSTA UNION\n",
        "    SELECT 'F' as COD_RESPOSTA, 'Completou a Faculdade, mas não completou a Pós-graduação.' NOM_RESPOSTA UNION\n",
        "    SELECT 'G' as COD_RESPOSTA, 'Completou a Pós-graduação.' NOM_RESPOSTA UNION\n",
        "    SELECT 'H' as COD_RESPOSTA, 'Não sei.' NOM_RESPOSTA\n",
        "\"\"\")\n",
        "\n",
        "dim_aux_r003e4 = spark.sql(\"\"\"\n",
        "    SELECT 'A' AS COD_RESPOSTA, 'Grupo 1: Lavrador, agricultor sem empregados, bóia fria, criador de animais (gado, porcos, galinhas, ovelhas, cavalos etc.), apicultor, pescador, lenhador, seringueiro, extrativista.'NOM_RESPOSTA UNION\n",
        "    SELECT 'B' AS COD_RESPOSTA, 'Grupo 2: Diarista, empregado doméstico, cuidador de idosos, babá, cozinheiro (em casas particulares), motorista particular, jardineiro, faxineiro de empresas e prédios, vigilante, porteiro, carteiro, office-boy, vendedor, caixa, atendente de loja, auxiliar administrativo, recepcionista, servente de pedreiro, repositor de mercadoria.'NOM_RESPOSTA UNION\n",
        "    SELECT 'C' AS COD_RESPOSTA, 'Grupo 3: Padeiro, cozinheiro industrial ou em restaurantes, sapateiro, costureiro, joalheiro, torneiro mecânico, operador de máquinas, soldador, operário de fábrica, trabalhador da mineração, pedreiro, pintor, eletricista, encanador, motorista, caminhoneiro, taxista.'NOM_RESPOSTA UNION\n",
        "    SELECT 'D' AS COD_RESPOSTA, 'Grupo 4: Professor (de ensino fundamental ou médio, idioma, música, artes etc.), técnico (de enfermagem, contabilidade, eletrônica etc.), policial, militar de baixa patente (soldado, cabo, sargento), corretor de imóveis, supervisor, gerente, mestre de obras, pastor, microempresário (proprietário de empresa com menos de 10 empregados), pequeno comerciante, pequeno proprietário de terras, trabalhador autônomo ou por conta própria.'NOM_RESPOSTA UNION\n",
        "    SELECT 'E' AS COD_RESPOSTA, 'Grupo 5: Médico, engenheiro, dentista, psicólogo, economista, advogado, juiz, promotor, defensor, delegado, tenente, capitão, coronel, professor universitário, diretor em empresas públicas ou privadas, político, proprietário de empresas com mais de 10 empregados.'NOM_RESPOSTA UNION\n",
        "    SELECT 'F' AS COD_RESPOSTA, 'Não sei.' NOM_RESPOSTA\n",
        "\"\"\")\n",
        "\n",
        "dim_aux_r006 = spark.sql(\"\"\"\n",
        "    SELECT 'A' AS COD_RESPOSTA,  'Nenhuma Renda' AS NOM_RESPOSTA UNION\n",
        "    SELECT 'B' AS COD_RESPOSTA,  'Até R$ 1.045,00' AS NOM_RESPOSTA UNION\n",
        "    SELECT 'C' AS COD_RESPOSTA,  'De R$ 1.045,01 até R$ 1.567,50' AS NOM_RESPOSTA UNION\n",
        "    SELECT 'D' AS COD_RESPOSTA,  'De R$ 1.567,51 até R$ 2.090,00' AS NOM_RESPOSTA UNION\n",
        "    SELECT 'E' AS COD_RESPOSTA,  'De R$ 2.090,01 até R$ 2.612,50' AS NOM_RESPOSTA UNION\n",
        "    SELECT 'F' AS COD_RESPOSTA,  'De R$ 2.612,51 até R$ 3.135,00' AS NOM_RESPOSTA UNION\n",
        "    SELECT 'G' AS COD_RESPOSTA,  'De R$ 3.135,01 até R$ 4.180,00' AS NOM_RESPOSTA UNION\n",
        "    SELECT 'H' AS COD_RESPOSTA,  'De R$ 4.180,01 até R$ 5.225,00' AS NOM_RESPOSTA UNION\n",
        "    SELECT 'I' AS COD_RESPOSTA,  'De R$ 5.225,01 até R$ 6.270,00' AS NOM_RESPOSTA UNION\n",
        "    SELECT 'J' AS COD_RESPOSTA,  'De R$ 6.270,01 até R$ 7.315,00' AS NOM_RESPOSTA UNION\n",
        "    SELECT 'K' AS COD_RESPOSTA,  'De R$ 7.315,01 até R$ 8.360,00' AS NOM_RESPOSTA UNION\n",
        "    SELECT 'L' AS COD_RESPOSTA,  'De R$ 8.360,01 até R$ 9.405,00' AS NOM_RESPOSTA UNION\n",
        "    SELECT 'M' AS COD_RESPOSTA,  'De R$ 9.405,01 até R$ 10.450,00' AS NOM_RESPOSTA UNION\n",
        "    SELECT 'N' AS COD_RESPOSTA,  'De R$ 10.450,01 até R$ 12.540,00' AS NOM_RESPOSTA UNION\n",
        "    SELECT 'O' AS COD_RESPOSTA,  'De R$ 12.540,01 até R$ 15.675,00' AS NOM_RESPOSTA UNION\n",
        "    SELECT 'P' AS COD_RESPOSTA,  'De R$ 15.675,01 até R$ 20.900,00' AS NOM_RESPOSTA UNION\n",
        "    SELECT 'Q' AS COD_RESPOSTA,  'Acima de R$ 20.900,00'  AS NOM_RESPOSTA\n",
        "\"\"\")\n",
        "\n",
        "dim_aux_r007 = spark.sql(\"\"\"\n",
        "    SELECT 'A' AS COD_RESPOSTA,  'Não.' AS NOM_RESPOSTA UNION\n",
        "    SELECT 'B' AS COD_RESPOSTA,  'Sim, um ou dois dias por semana.' AS NOM_RESPOSTA UNION\n",
        "    SELECT 'C' AS COD_RESPOSTA,  'Sim, três ou quatro dias por semana.' AS NOM_RESPOSTA UNION\n",
        "    SELECT 'D' AS COD_RESPOSTA,  'Sim, pelo menos cinco dias por semana.'  AS NOM_RESPOSTA\n",
        "\"\"\")\n",
        "\n",
        "dim_aux_r008a24 = spark.sql(\"\"\"\n",
        "    SELECT 'A' AS COD_RESPOSTA,  'Não.' AS NOM_RESPOSTA UNION\n",
        "    SELECT 'B' AS COD_RESPOSTA,  'Sim, um.' AS NOM_RESPOSTA UNION\n",
        "    SELECT 'C' AS COD_RESPOSTA,  'Sim, dois.' AS NOM_RESPOSTA UNION\n",
        "    SELECT 'D' AS COD_RESPOSTA,  'Sim, três.'  AS NOM_RESPOSTA UNION\n",
        "    SELECT 'E' AS COD_RESPOSTA,  'Sim, quatro ou mais.'  AS NOM_RESPOSTA\n",
        "\"\"\")\n",
        "\n",
        "dim_aux_r018e20e21e23e25 = spark.sql(\"\"\"\n",
        "    SELECT 'A' AS COD_RESPOSTA,  'Não.' AS NOM_RESPOSTA UNION\n",
        "    SELECT 'B' AS COD_RESPOSTA,  'Sim.' AS NOM_RESPOSTA\n",
        "\"\"\")\n"
      ],
      "metadata": {
        "id": "3hW_fw4nSybl"
      },
      "execution_count": 18,
      "outputs": []
    },
    {
      "cell_type": "code",
      "source": [
        "dim_aux_perguntas = spark.sql(\"\"\"\n",
        "    SELECT 'Q001' AS COD_QUESTAO,\t'Até que série seu pai, ou o homem responsável por você, estudou?\t' AS NOM_PERGUNTAS UNION\n",
        "    SELECT 'Q002' AS COD_QUESTAO,\t'Até que série sua mãe, ou a mulher responsável por você, estudou?\t' AS NOM_PERGUNTAS UNION\n",
        "    SELECT 'Q003' AS COD_QUESTAO,\t'A partir da apresentação de algumas ocupações divididas em grupos ordenados, indique o grupo que contempla a ocupação mais próxima da ocupação do seu pai ou do homem responsável por você. (Se ele não estiver trabalhando, escolha uma ocupação pensando no último trabalho dele).\t' AS NOM_PERGUNTAS UNION\n",
        "    SELECT 'Q004' AS COD_QUESTAO,\t'A partir da apresentação de algumas ocupações divididas em grupos ordenados, indique o grupo que contempla a ocupação mais próxima da ocupação da sua mãe ou da mulher responsável por você. (Se ela não estiver trabalhando, escolha uma ocupação pensando no último trabalho dela).\t' AS NOM_PERGUNTAS UNION\n",
        "    SELECT 'Q005' AS COD_QUESTAO,\t'Incluindo você, quantas pessoas moram atualmente em sua residência?\t' AS NOM_PERGUNTAS UNION\n",
        "    SELECT 'Q006' AS COD_QUESTAO,\t'Qual é a renda mensal de sua família? (Some a sua renda com a dos seus familiares.)\t' AS NOM_PERGUNTAS UNION\n",
        "    SELECT 'Q007' AS COD_QUESTAO,\t'Em sua residência trabalha empregado(a) doméstico(a)?\t' AS NOM_PERGUNTAS UNION\n",
        "    SELECT 'Q008' AS COD_QUESTAO,\t'Na sua residência tem banheiro?\t' AS NOM_PERGUNTAS UNION\n",
        "    SELECT 'Q009' AS COD_QUESTAO,\t'Na sua residência tem quartos para dormir?\t' AS NOM_PERGUNTAS UNION\n",
        "    SELECT 'Q010' AS COD_QUESTAO,\t'Na sua residência tem carro?\t' AS NOM_PERGUNTAS UNION\n",
        "    SELECT 'Q011' AS COD_QUESTAO,\t'Na sua residência tem motocicleta?\t' AS NOM_PERGUNTAS UNION\n",
        "    SELECT 'Q012' AS COD_QUESTAO,\t'Na sua residência tem geladeira?\t' AS NOM_PERGUNTAS UNION\n",
        "    SELECT 'Q013' AS COD_QUESTAO,\t'Na sua residência tem freezer (independente ou segunda porta da geladeira)?\t' AS NOM_PERGUNTAS UNION\n",
        "    SELECT 'Q014' AS COD_QUESTAO,\t'Na sua residência tem máquina de lavar roupa? (o tanquinho NÃO deve ser considerado)' AS NOM_PERGUNTAS UNION\n",
        "    SELECT 'Q015' AS COD_QUESTAO,\t'Na sua residência tem máquina de secar roupa (independente ou em conjunto com a máquina de lavar roupa)?' AS NOM_PERGUNTAS UNION\n",
        "    SELECT 'Q016' AS COD_QUESTAO,\t'Na sua residência tem forno micro-ondas?' AS NOM_PERGUNTAS UNION\n",
        "    SELECT 'Q017' AS COD_QUESTAO,\t'Na sua residência tem máquina de lavar louça?' AS NOM_PERGUNTAS UNION\n",
        "    SELECT 'Q018' AS COD_QUESTAO,\t'Na sua residência tem aspirador de pó?' AS NOM_PERGUNTAS UNION\n",
        "    SELECT 'Q019' AS COD_QUESTAO,\t'Na sua residência tem televisão em cores?' AS NOM_PERGUNTAS UNION\n",
        "    SELECT 'Q020' AS COD_QUESTAO,\t'Na sua residência tem aparelho de DVD?' AS NOM_PERGUNTAS UNION\n",
        "    SELECT 'Q021' AS COD_QUESTAO,\t'Na sua residência tem TV por assinatura?' AS NOM_PERGUNTAS UNION\n",
        "    SELECT 'Q022' AS COD_QUESTAO,\t'Na sua residência tem telefone celular?' AS NOM_PERGUNTAS UNION\n",
        "    SELECT 'Q023' AS COD_QUESTAO,\t'Na sua residência tem telefone fixo?' AS NOM_PERGUNTAS UNION\n",
        "    SELECT 'Q024' AS COD_QUESTAO,\t'Na sua residência tem computador?\t' AS NOM_PERGUNTAS UNION\n",
        "    SELECT 'Q025' AS COD_QUESTAO,\t'Na sua residência tem acesso à Internet?' AS NOM_PERGUNTAS\n",
        "\t\"\"\")\n"
      ],
      "metadata": {
        "id": "YRbeuFq7ehMq"
      },
      "execution_count": 19,
      "outputs": []
    },
    {
      "cell_type": "code",
      "source": [],
      "metadata": {
        "id": "Zb9WAyPhSyn0"
      },
      "execution_count": 19,
      "outputs": []
    },
    {
      "cell_type": "code",
      "source": [],
      "metadata": {
        "id": "GV-6VayY2FjS"
      },
      "execution_count": 19,
      "outputs": []
    },
    {
      "cell_type": "code",
      "source": [
        "#gravando dimensões em parquet\n",
        "\n",
        "#PARTICIPANTES\n",
        "dim_prt_situacao_escola.write.mode('overwrite').parquet(dir_proc + \"dimensao/dim_prt_situacao_escola\")\n",
        "dim_prt_faixa_etaria.write.mode('overwrite').parquet(dir_proc + \"dimensao/dim_prt_faixa_etaria\")\n",
        "dim_prt_sexo.write.mode('overwrite').parquet(dir_proc + \"dimensao/dim_prt_sexo\")\n",
        "dim_prt_estado_civil.write.mode('overwrite').parquet(dir_proc + \"dimensao/dim_prt_estado_civil\")\n",
        "dim_prt_nacionalidade.write.mode('overwrite').parquet(dir_proc + \"dimensao/dim_prt_nacionalidade\")\n",
        "dim_prt_raca.write.mode('overwrite').parquet(dir_proc + \"dimensao/dim_prt_raca\")\n",
        "\n",
        "#PROVA\n",
        "dim_prv_municipio.write.mode('overwrite').parquet(dir_proc + \"dimensao/dim_prv_municipio\")\n",
        "\n",
        "#ESCOLA ESC\n",
        "dim_esc_dependencia.write.mode('overwrite').parquet(dir_proc + \"dimensao/dim_esc_dependencia\")\n",
        "dim_esc_localizacao.write.mode('overwrite').parquet(dir_proc + \"dimensao/dim_esc_localizacao\")\n",
        "dim_esc_situacao.write.mode('overwrite').parquet(dir_proc + \"dimensao/dim_esc_situacao\")\n",
        "\n",
        "#ESCOLA PART\n",
        "dim_prt_escola.write.mode('overwrite').parquet(dir_proc + \"dimensao/dim_prt_escola\")\n",
        "dim_prt_ensino.write.mode('overwrite').parquet(dir_proc + \"dimensao/dim_prt_ensino\")\n",
        "\n",
        "#UF\n",
        "dim_uf.write.mode('overwrite').parquet(dir_proc + \"dimensao/dim_uf\")"
      ],
      "metadata": {
        "id": "zUt-vWin2Fl6"
      },
      "execution_count": 20,
      "outputs": []
    },
    {
      "cell_type": "code",
      "source": [
        "#AUXILIARES\n",
        "dim_presenca.write.mode('overwrite').parquet(dir_proc + \"dimensao/dim_presenca\")\n",
        "dim_aux_r001e2.write.mode('overwrite').parquet(dir_proc + \"dimensao/dim_aux_r001e2\")\n",
        "dim_aux_r003e4 .write.mode('overwrite').parquet(dir_proc + \"dimensao/dim_aux_r003e4\")\n",
        "dim_aux_r006.write.mode('overwrite').parquet(dir_proc + \"dimensao/dim_aux_r006\")\n",
        "dim_aux_r007.write.mode('overwrite').parquet(dir_proc + \"dimensao/dim_aux_r007\")\n",
        "dim_aux_r008a24 .write.mode('overwrite').parquet(dir_proc + \"dimensao/dim_aux_r008a24\")\n",
        "dim_aux_r018e20e21e23e25.write.mode('overwrite').parquet(dir_proc + \"dimensao/dim_aux_r018e20e21e23e25\")\n",
        "dim_aux_perguntas.write.mode('overwrite').parquet(dir_proc + \"dimensao/dim_aux_pergunta\")"
      ],
      "metadata": {
        "id": "_xC6HTYA2FoL"
      },
      "execution_count": 21,
      "outputs": []
    },
    {
      "cell_type": "code",
      "source": [],
      "metadata": {
        "id": "gSQX1vWg3LP6"
      },
      "execution_count": 21,
      "outputs": []
    },
    {
      "cell_type": "code",
      "source": [
        "# CRIANDO FATOS"
      ],
      "metadata": {
        "id": "tSzQbRN12FqT"
      },
      "execution_count": 22,
      "outputs": []
    },
    {
      "cell_type": "code",
      "source": [
        "# criando fato do participante\n",
        "fat_participante = dataset_enem_01.select ('NU_INSCRICAO',\n",
        " 'NU_ANO',\n",
        " 'COD_FAIXA_ETARIA',\n",
        " 'COD_TP_SEXO',\n",
        " 'COD_ESTADO_CIVIL',\n",
        " 'COD_NACIONALIDADE',\n",
        " 'COD_RACA',\n",
        " 'COD_ESCOLA',\n",
        " 'COD_ENSINO',\n",
        " 'COD_ST_CONCLUSAO',\n",
        " 'COD_MUNICIPIO_ESC',\n",
        " 'COD_UF_ESC',\n",
        " 'COD_LOCALIZACAO_ESC',\n",
        " 'COD_SIT_FUNC_ESC',\n",
        " 'COD_DEPENDENCIA_ADM_ESC',\n",
        " 'NOM_TREINEIRO',\n",
        " 'COD_MUNICIPIO_PROVA',\n",
        " 'NU_NOTA_REDACAO',\n",
        " 'NU_NOTA_CN',\n",
        " 'NU_NOTA_CH',\n",
        " 'NU_NOTA_LC',\n",
        " 'NU_NOTA_MT',\n",
        " 'COD_PRESENCA_CN',\n",
        " 'COD_PRESENCA_CH',\n",
        " 'COD_PRESENCA_LC',\n",
        " 'COD_PRESENCA_MT')"
      ],
      "metadata": {
        "id": "JzD6vLtz78q6"
      },
      "execution_count": 23,
      "outputs": []
    },
    {
      "cell_type": "code",
      "source": [
        "fat_participante.show(3)"
      ],
      "metadata": {
        "colab": {
          "base_uri": "https://localhost:8080/"
        },
        "id": "YS3BCfs878tn",
        "outputId": "91498d88-52dc-41c7-8b53-40bdc32e306d"
      },
      "execution_count": 24,
      "outputs": [
        {
          "output_type": "stream",
          "name": "stdout",
          "text": [
            "+------------+------+----------------+-----------+----------------+-----------------+--------+----------+----------+----------------+-----------------+----------+-------------------+----------------+-----------------------+-------------+-------------------+---------------+----------+----------+----------+----------+---------------+---------------+---------------+---------------+\n",
            "|NU_INSCRICAO|NU_ANO|COD_FAIXA_ETARIA|COD_TP_SEXO|COD_ESTADO_CIVIL|COD_NACIONALIDADE|COD_RACA|COD_ESCOLA|COD_ENSINO|COD_ST_CONCLUSAO|COD_MUNICIPIO_ESC|COD_UF_ESC|COD_LOCALIZACAO_ESC|COD_SIT_FUNC_ESC|COD_DEPENDENCIA_ADM_ESC|NOM_TREINEIRO|COD_MUNICIPIO_PROVA|NU_NOTA_REDACAO|NU_NOTA_CN|NU_NOTA_CH|NU_NOTA_LC|NU_NOTA_MT|COD_PRESENCA_CN|COD_PRESENCA_CH|COD_PRESENCA_LC|COD_PRESENCA_MT|\n",
            "+------------+------+----------------+-----------+----------------+-----------------+--------+----------+----------+----------------+-----------------+----------+-------------------+----------------+-----------------------+-------------+-------------------+---------------+----------+----------+----------+----------+---------------+---------------+---------------+---------------+\n",
            "|200006271946|  2020|              11|          1|               1|                1|       2|         1|        -1|               1|               -1|        -1|                 -1|              -1|                     -1|          Não|            1501402|           NULL|      NULL|      NULL|      NULL|      NULL|              0|              0|              0|              0|\n",
            "|200001195856|  2020|              11|          2|               2|                1|       3|         1|        -1|               1|               -1|        -1|                 -1|              -1|                     -1|          Não|            2408102|          580.0|     604.1|     661.7|     595.3|     711.3|              1|              1|              1|              1|\n",
            "|200001943954|  2020|               4|          1|               2|                2|       3|         2|         1|               2|          2927408|        29|                  1|               1|                      2|          Não|            2927408|           NULL|      NULL|      NULL|      NULL|      NULL|              0|              0|              0|              0|\n",
            "+------------+------+----------------+-----------+----------------+-----------------+--------+----------+----------+----------------+-----------------+----------+-------------------+----------------+-----------------------+-------------+-------------------+---------------+----------+----------+----------+----------+---------------+---------------+---------------+---------------+\n",
            "only showing top 3 rows\n",
            "\n"
          ]
        }
      ]
    },
    {
      "cell_type": "code",
      "source": [
        "# criando fato do questionario\n",
        "fat_questionario = dataset_enem_01.select (\n",
        "    'NU_INSCRICAO',\n",
        "    'Q001',    'Q002',    'Q003',    'Q004',    'Q005',    'Q006',    'Q007',    'Q008',    'Q009',\n",
        "    'Q010',    'Q011',    'Q012',    'Q013',    'Q014',    'Q015',    'Q016',    'Q017',    'Q018',\n",
        "    'Q019',    'Q020',    'Q021',    'Q022',    'Q023',    'Q024',    'Q025' )"
      ],
      "metadata": {
        "id": "mpAX_hKJZBhm"
      },
      "execution_count": 25,
      "outputs": []
    },
    {
      "cell_type": "code",
      "source": [
        "fat_questionario.show(3)"
      ],
      "metadata": {
        "colab": {
          "base_uri": "https://localhost:8080/"
        },
        "id": "KxC5km5XZBkO",
        "outputId": "e5bc8c9a-a739-45ff-87e7-0383883340ea"
      },
      "execution_count": 26,
      "outputs": [
        {
          "output_type": "stream",
          "name": "stdout",
          "text": [
            "+------------+----+----+----+----+----+----+----+----+----+----+----+----+----+----+----+----+----+----+----+----+----+----+----+----+----+\n",
            "|NU_INSCRICAO|Q001|Q002|Q003|Q004|Q005|Q006|Q007|Q008|Q009|Q010|Q011|Q012|Q013|Q014|Q015|Q016|Q017|Q018|Q019|Q020|Q021|Q022|Q023|Q024|Q025|\n",
            "+------------+----+----+----+----+----+----+----+----+----+----+----+----+----+----+----+----+----+----+----+----+----+----+----+----+----+\n",
            "|200006271946|  -1|  -1|  -1|  -1|  -1|  -1|  -1|  -1|  -1|  -1|  -1|  -1|  -1|  -1|  -1|  -1|  -1|  -1|  -1|  -1|  -1|  -1|  -1|  -1|  -1|\n",
            "|200001195856|  -1|  -1|  -1|  -1|  -1|  -1|  -1|  -1|  -1|  -1|  -1|  -1|  -1|  -1|  -1|  -1|  -1|  -1|  -1|  -1|  -1|  -1|  -1|  -1|  -1|\n",
            "|200001943954|   B|   C|   A|   D|   3|   B|   A|   B|   A|   A|   A|   B|   A|   B|   A|   B|   A|   A|   B|   A|   A|   A|   A|   A|   A|\n",
            "+------------+----+----+----+----+----+----+----+----+----+----+----+----+----+----+----+----+----+----+----+----+----+----+----+----+----+\n",
            "only showing top 3 rows\n",
            "\n"
          ]
        }
      ]
    },
    {
      "cell_type": "code",
      "source": [],
      "metadata": {
        "id": "vgc14wrAZp3c"
      },
      "execution_count": 26,
      "outputs": []
    },
    {
      "cell_type": "code",
      "source": [
        "# gravando fatos em parquet\n",
        "\n",
        "#PARTICIPANTE\n",
        "fat_participante.write.mode('overwrite').parquet(dir_proc + \"fato/fat_participante\")\n",
        "\n",
        "#PERGUNTAS\n",
        "fat_questionario.write.mode('overwrite').parquet(dir_proc + \"fato/fat_questionario\")"
      ],
      "metadata": {
        "id": "rsQatxwL78wX"
      },
      "execution_count": 27,
      "outputs": []
    },
    {
      "cell_type": "code",
      "source": [
        "# cagarregando arquivos parquet\n",
        "# fatos e dimensoes\n",
        "\n",
        "# PARTICIPANTE\n",
        "df_dim_prt_situacao_escola = spark.read.load(path = dir_proc + \"dimensao/dim_prt_situacao_escola/*.parquet\", format='parquet')\n",
        "df_dim_prt_faixa_etaria = spark.read.load(path = dir_proc + \"dimensao/dim_prt_faixa_etaria/*.parquet\", format='parquet')\n",
        "df_dim_prt_sexo = spark.read.load(path = dir_proc + \"dimensao/dim_prt_sexo/*.parquet\", format='parquet')\n",
        "df_dim_prt_estado_civil = spark.read.load(path = dir_proc + \"dimensao/dim_prt_estado_civil/*.parquet\", format='parquet')\n",
        "df_dim_prt_nacionalidade = spark.read.load(path = dir_proc + \"dimensao/dim_prt_nacionalidade/*.parquet\", format='parquet')\n",
        "df_dim_prt_raca = spark.read.load(path = dir_proc + \"dimensao/dim_prt_raca/*.parquet\", format='parquet')\n",
        "\n",
        "#PROVA\n",
        "df_dim_prv_municipio = spark.read.load(path = dir_proc + \"dimensao/dim_prv_municipio/*.parquet\", format='parquet')\n",
        "\n",
        "#ESCOLA ESC\n",
        "df_dim_esc_dependencia = spark.read.load(path = dir_proc + \"dimensao/dim_esc_dependencia/*.parquet\", format='parquet')\n",
        "df_dim_esc_localizacao = spark.read.load(path = dir_proc + \"dimensao/dim_esc_localizacao/*.parquet\", format='parquet')\n",
        "df_dim_esc_situacao = spark.read.load(path = dir_proc + \"dimensao/dim_esc_situacao/*.parquet\", format='parquet')\n",
        "\n",
        "#ESCOLA PART\n",
        "df_dim_prt_escola = spark.read.load(path = dir_proc + \"dimensao/dim_prt_escola/*.parquet\", format='parquet')\n",
        "df_dim_prt_ensino = spark.read.load(path = dir_proc + \"dimensao/dim_prt_ensino/*.parquet\", format='parquet')\n",
        "\n",
        "#UF\n",
        "df_dim_uf = spark.read.load(path = dir_proc + \"dimensao/dim_uf/*.parquet\", format='parquet' )\n",
        "\n",
        "#fato\n",
        "fat_participante = spark.read.load(path= dir_proc + 'fato/fat_participante/*.parquet', format='parquet')\n",
        "fat_questionario = spark.read.load(path= dir_proc + 'fato/fat_questionario/*.parquet', format='parquet')\n",
        "\n",
        "#AUXILIARES\n",
        "df_dim_presenca = spark.read.load(path = dir_proc + \"dimensao/dim_presenca/*.parquet\", format='parquet' )\n",
        "df_dim_aux_r001e2  = spark.read.load(path=dir_proc + 'dimensao/dim_aux_r001e2/*.parquet', format='parquet')\n",
        "df_dim_aux_r003e4  = spark.read.load(path=dir_proc + 'dimensao/dim_aux_r003e4/*.parquet', format='parquet')\n",
        "df_dim_aux_r006  = spark.read.load(path=dir_proc + 'dimensao/dim_aux_r006/*.parquet', format='parquet')\n",
        "df_dim_aux_r007  = spark.read.load(path=dir_proc + 'dimensao/dim_aux_r007/*.parquet', format='parquet')\n",
        "df_dim_aux_r008a24  = spark.read.load(path=dir_proc + 'dimensao/dim_aux_r008a24/*.parquet', format='parquet')\n",
        "df_dim_aux_r018e20e21e23e25  = spark.read.load(path=dir_proc + 'dimensao/dim_aux_r018e20e21e23e25/*.parquet', format='parquet')\n",
        "df_dim_aux_perguntas  = spark.read.load(path=dir_proc + 'dimensao/dim_aux_pergunta/*.parquet', format='parquet')"
      ],
      "metadata": {
        "id": "LkR3vYSG78zE"
      },
      "execution_count": 28,
      "outputs": []
    },
    {
      "cell_type": "code",
      "source": [
        "#\n",
        "# criando views para responder questionamentos do teste\n",
        "#\n",
        "\n",
        "#PARTICIPANTES\n",
        "df_dim_prt_situacao_escola.createOrReplaceTempView(\"VW_DIM_PRT_SITUACAO\")\n",
        "df_dim_prt_faixa_etaria.createOrReplaceTempView(\"VW_DIM_PRT_FAIXA_ETARIA\")\n",
        "df_dim_prt_sexo.createOrReplaceTempView(\"VW_DIM_PRT_SEXO\")\n",
        "df_dim_prt_estado_civil.createOrReplaceTempView(\"VW_DIM_PRT_ESTADO_CIVIL\")\n",
        "df_dim_prt_nacionalidade.createOrReplaceTempView(\"VW_DIM_PRT_NACIONALIDADE\")\n",
        "df_dim_prt_raca.createOrReplaceTempView(\"VW_DIM_PRT_RACA\")\n",
        "\n",
        "#PROVA\n",
        "df_dim_prv_municipio.createOrReplaceTempView(\"VW_DIM_MUNICIPIO\")\n",
        "\n",
        "#ESCOLA ESC\n",
        "df_dim_esc_dependencia.createOrReplaceTempView(\"VW_DIM_ESC_DEPENDENCIA\")\n",
        "df_dim_esc_localizacao.createOrReplaceTempView(\"VW_DIM_ESC_LOCALIZACAO\")\n",
        "df_dim_esc_situacao.createOrReplaceTempView(\"VW_DIM_ESC_SITUACAO\")\n",
        "\n",
        "#ESCOLA PART\n",
        "df_dim_prt_escola.createOrReplaceTempView(\"VW_DIM_PRT_ESCOLA\")\n",
        "df_dim_prt_ensino.createOrReplaceTempView(\"VW_DIM_PRT_ENSINO\")\n",
        "\n",
        "#UF\n",
        "df_dim_uf.createOrReplaceTempView(\"VW_DIM_UF\")\n",
        "\n",
        "#PRESENÇA\n",
        "df_dim_presenca.createOrReplaceTempView(\"VW_DIM_PRESENCA\")\n",
        "\n",
        "#fato\n",
        "fat_participante.createOrReplaceTempView(\"VW_FAT_PARTICIPANTE\")"
      ],
      "metadata": {
        "id": "bQirCl9K7806"
      },
      "execution_count": 29,
      "outputs": []
    },
    {
      "cell_type": "code",
      "source": [],
      "metadata": {
        "id": "iukpWh3Et0ev"
      },
      "execution_count": 29,
      "outputs": []
    },
    {
      "cell_type": "code",
      "source": [
        "# função a fim de localizar o nome do arquivo gerado em parquet\n",
        "# ps: o parquet gera o arquivo com o nome proprio\n",
        "#     com essa função resgatamos esse nome não o colocamos na mão\n",
        "\n",
        "def localizaParquet(dir):\n",
        "  path = \"/content/proc/\"+dir\n",
        "  dir_list = os.listdir(path)\n",
        "\n",
        "  for x in os.listdir(path):\n",
        "    if x.endswith(\".parquet\"):\n",
        "       name = path + x\n",
        "  return name"
      ],
      "metadata": {
        "id": "U5KW1iiZt0no"
      },
      "execution_count": 30,
      "outputs": []
    },
    {
      "cell_type": "code",
      "source": [
        "# chamando a função recuperando os nomes dos parquet criados\n",
        "\n",
        "name_dim_prt_situacao_escola = localizaParquet('dimensao/dim_prt_situacao_escola/')\n",
        "name_dim_prt_faixa_etaria = localizaParquet('dimensao/dim_prt_faixa_etaria/')\n",
        "name_dim_prt_sexo = localizaParquet('dimensao/dim_prt_sexo/')\n",
        "name_dim_prt_estado_civil = localizaParquet('dimensao/dim_prt_estado_civil/')\n",
        "name_dim_prt_nacionalidade = localizaParquet('dimensao/dim_prt_nacionalidade/')\n",
        "name_dim_prt_raca = localizaParquet('dimensao/dim_prt_raca/')\n",
        "name_dim_prv_municipio = localizaParquet('dimensao/dim_prv_municipio/')\n",
        "name_dim_esc_dependencia = localizaParquet('dimensao/dim_esc_dependencia/')\n",
        "name_dim_esc_localizacao = localizaParquet('dimensao/dim_esc_localizacao/')\n",
        "name_dim_esc_situacao = localizaParquet('dimensao/dim_esc_situacao/')\n",
        "name_dim_prt_escola = localizaParquet('dimensao/dim_prt_escola/')\n",
        "name_dim_prt_ensino = localizaParquet('dimensao/dim_prt_ensino/')\n",
        "name_dim_uf = localizaParquet('dimensao/dim_uf/')\n",
        "name_dim_presenca = localizaParquet('dimensao/dim_presenca/')\n",
        "name_fat_participante = localizaParquet('fato/fat_participante/')\n",
        "name_fat_questionario = localizaParquet('fato/fat_questionario/')\n",
        "\n",
        "name_dim_aux_r001e2  = localizaParquet('dimensao/dim_aux_r001e2/')\n",
        "name_dim_aux_r003e4  = localizaParquet('dimensao/dim_aux_r003e4/')\n",
        "name_dim_aux_r006  = localizaParquet('dimensao/dim_aux_r006/')\n",
        "name_dim_aux_r007  = localizaParquet('dimensao/dim_aux_r007/')\n",
        "name_dim_aux_r008a24  = localizaParquet('dimensao/dim_aux_r008a24/')\n",
        "name_dim_aux_r018e20e21e23e25  = localizaParquet('dimensao/dim_aux_r018e20e21e23e25/')\n",
        "name_dim_aux_perguntas  = localizaParquet('dimensao/dim_aux_pergunta/')"
      ],
      "metadata": {
        "id": "986oUgpBtcE8"
      },
      "execution_count": 31,
      "outputs": []
    },
    {
      "cell_type": "code",
      "source": [
        "# trecho para gravar arquivos em csv a fim de colocar no dataviz"
      ],
      "metadata": {
        "id": "VapNS2dp4x6z"
      },
      "execution_count": 32,
      "outputs": []
    },
    {
      "cell_type": "code",
      "source": [
        "#\n",
        "# lendo os arquivos parquet dessa vez em forma de dataset pandas\n",
        "#\n",
        "\n",
        "df_dim_prt_situacao_escola2 = pd.read_parquet(name_dim_prt_situacao_escola)\n",
        "df_dim_prt_faixa_etaria2 = pd.read_parquet(name_dim_prt_faixa_etaria)\n",
        "df_dim_prt_sexo2 = pd.read_parquet(name_dim_prt_sexo)\n",
        "df_dim_prt_estado_civil2 = pd.read_parquet(name_dim_prt_estado_civil)\n",
        "df_dim_prt_nacionalidade2 = pd.read_parquet(name_dim_prt_nacionalidade)\n",
        "df_dim_prt_raca2 = pd.read_parquet(name_dim_prt_raca)\n",
        "\n",
        "df_dim_prv_municipio2 = pd.read_parquet(name_dim_prv_municipio)\n",
        "\n",
        "df_dim_esc_dependencia2 = pd.read_parquet(name_dim_esc_dependencia)\n",
        "df_dim_esc_localizacao2 = pd.read_parquet(name_dim_esc_localizacao)\n",
        "df_dim_esc_situacao2 = pd.read_parquet(name_dim_esc_situacao)\n",
        "\n",
        "df_dim_prt_escola2 = pd.read_parquet(name_dim_prt_escola)\n",
        "df_dim_prt_ensino2 = pd.read_parquet(name_dim_prt_ensino)\n",
        "\n",
        "df_dim_uf2 = pd.read_parquet(name_dim_uf)\n",
        "\n",
        "df_dim_presenca2 = pd.read_parquet(name_dim_presenca)\n",
        "\n",
        "fat_participante2 = pd.read_parquet(name_fat_participante)\n",
        "fat_questionario2 = pd.read_parquet(name_fat_questionario)\n",
        "\n",
        "df_dim_aux_r001e2  = pd.read_parquet(name_dim_aux_r001e2)\n",
        "df_dim_aux_r003e4  = pd.read_parquet(name_dim_aux_r003e4)\n",
        "df_dim_aux_r006  = pd.read_parquet(name_dim_aux_r006)\n",
        "df_dim_aux_r007  = pd.read_parquet(name_dim_aux_r007)\n",
        "df_dim_aux_r008a24  = pd.read_parquet(name_dim_aux_r008a24)\n",
        "df_dim_aux_r018e20e21e23e25  = pd.read_parquet(name_dim_aux_r018e20e21e23e25)\n",
        "df_dim_aux_perguntas  = pd.read_parquet(name_dim_aux_perguntas)"
      ],
      "metadata": {
        "id": "Etr4jQz_wwJv"
      },
      "execution_count": 33,
      "outputs": []
    },
    {
      "cell_type": "code",
      "source": [
        "#\n",
        "# Gravando arquivos em CSV\n",
        "#\n",
        "\n",
        "# criando uma pasta csv\n",
        "os.mkdir('./csv')\n",
        "\n",
        "# gravando arquivos\n",
        "df_dim_prt_situacao_escola2.to_csv('./csv/df_dim_prt_situacao_escola2.csv', sep=';', index=False,header=True)\n",
        "df_dim_prt_faixa_etaria2.to_csv('./csv/df_dim_prt_faixa_etaria2.csv', sep=';', index=False,header=True)\n",
        "df_dim_prt_sexo2.to_csv('./csv/df_dim_prt_sexo2.csv', sep=';', index=False,header=True)\n",
        "df_dim_prt_estado_civil2.to_csv('./csv/df_dim_prt_estado_civil2.csv', sep=';', index=False,header=True)\n",
        "df_dim_prt_nacionalidade2.to_csv('./csv/df_dim_prt_nacionalidade2.csv', sep=';', index=False,header=True)\n",
        "df_dim_prt_raca2.to_csv('./csv/df_dim_prt_raca2.csv', sep=';', index=False,header=True)\n",
        "\n",
        "df_dim_prv_municipio2.to_csv('./csv/df_dim_prv_municipio2.csv', sep=';', index=False,header=True)\n",
        "\n",
        "df_dim_esc_dependencia2.to_csv('./csv/df_dim_esc_dependencia2.csv', sep=';', index=False,header=True)\n",
        "df_dim_esc_localizacao2.to_csv('./csv/df_dim_esc_localizacao2.csv', sep=';', index=False,header=True)\n",
        "df_dim_esc_situacao2.to_csv('./csv/df_dim_esc_situacao2.csv', sep=';', index=False,header=True)\n",
        "\n",
        "df_dim_prt_escola2.to_csv('./csv/df_dim_prt_escola2.csv', sep=';', index=False,header=True)\n",
        "df_dim_prt_ensino2.to_csv('./csv/df_dim_prt_ensino2.csv', sep=';', index=False,header=True)\n",
        "\n",
        "df_dim_uf2.to_csv('./csv/df_dim_uf2.csv', sep=';', index=False,header=True)\n",
        "\n",
        "fat_participante2.to_csv('./csv/fat_participante2.csv', sep=';', index=False,header=True)\n",
        "fat_questionario2.to_csv('./csv/fat_questionario2.csv', sep=';', index=False,header=True)"
      ],
      "metadata": {
        "id": "oUmwYS48wwMY"
      },
      "execution_count": 34,
      "outputs": []
    },
    {
      "cell_type": "code",
      "source": [
        "df_dim_presenca2.to_csv('./csv/df_dim_presenca2.csv', sep=';', index=False,header=True)\n",
        "\n",
        "df_dim_aux_r001e2.to_csv('./csv/df_dim_aux_r001e2.csv',sep=';', index=False, header=True)\n",
        "df_dim_aux_r003e4 .to_csv('./csv/df_dim_aux_r003e4.csv',sep=';', index=False, header=True)\n",
        "df_dim_aux_r006.to_csv('./csv/df_dim_aux_r006.csv',sep=';', index=False, header=True)\n",
        "df_dim_aux_r007.to_csv('./csv/df_dim_aux_r007.csv',sep=';', index=False, header=True)\n",
        "df_dim_aux_r008a24 .to_csv('./csv/df_dim_aux_r008a24.csv',sep=';', index=False, header=True)\n",
        "df_dim_aux_r018e20e21e23e25.to_csv('./csv/df_dim_aux_r018e20e21e23e25.csv',sep=';', index=False, header=True)\n",
        "df_dim_aux_perguntas.to_csv('./csv/df_dim_aux_perguntas.csv',sep=';', index=False, header=True)"
      ],
      "metadata": {
        "id": "S4-UnqRt3pXL"
      },
      "execution_count": 35,
      "outputs": []
    },
    {
      "cell_type": "code",
      "source": [
        "#\n",
        "# trecho para gravar todos os CSVs em um zip\n",
        "# a fim de baixa-los posteriormente de uma vez.\n",
        "#\n",
        "\n",
        "shutil.make_archive('download_csv','zip','./csv')"
      ],
      "metadata": {
        "colab": {
          "base_uri": "https://localhost:8080/",
          "height": 35
        },
        "id": "U3kiNdSYj0eS",
        "outputId": "30d08b3f-cd7f-4c1a-fc48-f501d0407cac"
      },
      "execution_count": 36,
      "outputs": [
        {
          "output_type": "execute_result",
          "data": {
            "text/plain": [
              "'/content/download_csv.zip'"
            ],
            "application/vnd.google.colaboratory.intrinsic+json": {
              "type": "string"
            }
          },
          "metadata": {},
          "execution_count": 36
        }
      ]
    },
    {
      "cell_type": "code",
      "source": [
        "#\n",
        "# descomentar abaixo para deletar a pasta CSV com todos os arquivos.\n",
        "#\n",
        "\n",
        "#!rm -rf csv\n",
        "#!ls -lrt"
      ],
      "metadata": {
        "id": "fWA-IT_vdEq6"
      },
      "execution_count": 37,
      "outputs": []
    },
    {
      "cell_type": "code",
      "source": [],
      "metadata": {
        "id": "IvbTISEZgm-3"
      },
      "execution_count": 37,
      "outputs": []
    },
    {
      "cell_type": "code",
      "source": [],
      "metadata": {
        "id": "BOx8EQZJgnJe"
      },
      "execution_count": 37,
      "outputs": []
    },
    {
      "cell_type": "markdown",
      "source": [
        "**Trecho abaixo a fim de responder em sql/python os questionamentos feitos**"
      ],
      "metadata": {
        "id": "idPO3e4W50OC"
      }
    },
    {
      "cell_type": "code",
      "source": [
        "# ESCOLA COM MAIOR MEDIA\n",
        "\n",
        "fn_query(\"\"\"\n",
        "  SELECT\n",
        "  ESC.NOM_ESCOLA,\n",
        "  ROUND(AVG( FAT.NU_NOTA_REDACAO + FAT.NU_NOTA_CN + FAT.NU_NOTA_CH + FAT.NU_NOTA_LC + FAT.NU_NOTA_MT ) / 5,2) MEDIA\n",
        "\n",
        "  FROM VW_FAT_PARTICIPANTE FAT\n",
        "    INNER JOIN VW_DIM_PRT_ESCOLA ESC\n",
        "      ON FAT.COD_ESCOLA = ESC.COD_ESCOLA\n",
        "\n",
        "    GROUP BY\n",
        "        ESC.NOM_ESCOLA\n",
        "    ORDER BY MEDIA DESC\n",
        "\n",
        "\"\"\", 3)"
      ],
      "metadata": {
        "colab": {
          "base_uri": "https://localhost:8080/"
        },
        "id": "RgrRGuT0_BLk",
        "outputId": "1135a952-0513-43f8-90c5-6ab2a4a68f56"
      },
      "execution_count": 38,
      "outputs": [
        {
          "output_type": "stream",
          "name": "stdout",
          "text": [
            "+-------------+------+\n",
            "|NOM_ESCOLA   |MEDIA |\n",
            "+-------------+------+\n",
            "|Privada      |629.48|\n",
            "|Pública      |539.0 |\n",
            "|Não Respondeu|538.19|\n",
            "+-------------+------+\n",
            "\n"
          ]
        }
      ]
    },
    {
      "cell_type": "code",
      "source": [
        "# ALUNO COM MAIOR MEDIA\n",
        "\n",
        "fn_query(\"\"\"\n",
        "  SELECT\n",
        "  FAT.NU_INSCRICAO  ,\n",
        "  ROUND(AVG( FAT.NU_NOTA_REDACAO + FAT.NU_NOTA_CN + FAT.NU_NOTA_CH + FAT.NU_NOTA_LC + FAT.NU_NOTA_MT ) / 5,2) MEDIA\n",
        "\n",
        "  FROM VW_FAT_PARTICIPANTE FAT\n",
        "\n",
        "    GROUP BY\n",
        "        NU_INSCRICAO\n",
        "    ORDER BY MEDIA DESC\n",
        "\n",
        "\"\"\", 3)"
      ],
      "metadata": {
        "colab": {
          "base_uri": "https://localhost:8080/"
        },
        "id": "Y3zHWR-gEMnt",
        "outputId": "3f3c57b4-89ee-4b48-f308-c9efba361b5a"
      },
      "execution_count": 39,
      "outputs": [
        {
          "output_type": "stream",
          "name": "stdout",
          "text": [
            "+------------+------+\n",
            "|NU_INSCRICAO|MEDIA |\n",
            "+------------+------+\n",
            "|200004989284|836.14|\n",
            "|200006014985|824.78|\n",
            "|200004839616|821.86|\n",
            "+------------+------+\n",
            "only showing top 3 rows\n",
            "\n"
          ]
        }
      ]
    },
    {
      "cell_type": "code",
      "source": [
        "#  % AUSENTES\n",
        "\n",
        "fn_query(\"\"\"\n",
        "  SELECT\n",
        "  COUNT(FAT.NU_INSCRICAO) AS TOT_INSCRITOS,\n",
        "  COUNT(\n",
        "    CASE\n",
        "      WHEN FAT.COD_PRESENCA_CN = 0 THEN 1\n",
        "    END) TOT_CIENCIAS_NAT,\n",
        "  COUNT(\n",
        "    CASE\n",
        "      WHEN FAT.COD_PRESENCA_CH = 0 THEN 1\n",
        "    END) TOT_CIENCIAS_HUM,\n",
        "  COUNT(\n",
        "    CASE\n",
        "      WHEN FAT.COD_PRESENCA_LC = 0 THEN 1\n",
        "    END) TOT_LINGUAGEM_COD,\n",
        "  COUNT(\n",
        "    CASE\n",
        "      WHEN FAT.COD_PRESENCA_MT = 0 THEN 1\n",
        "    END) TOT_MATEMATICA,\n",
        "\n",
        "  COUNT(\n",
        "    CASE\n",
        "      WHEN 1=1\n",
        "        AND FAT.COD_PRESENCA_CN = 0\n",
        "        AND FAT.COD_PRESENCA_CH = 0\n",
        "        AND FAT.COD_PRESENCA_LC = 0\n",
        "        AND FAT.COD_PRESENCA_MT = 0\n",
        "        THEN 1\n",
        "    END) TOT_AUSENTES_TODAS_PROVAS,\n",
        "\n",
        "    CONCAT(ROUND((TOT_AUSENTES_TODAS_PROVAS/TOT_INSCRITOS) * 100,2),'%') AS PERC_AUSENTES_TODAS_PROVAS\n",
        "\n",
        "  FROM VW_FAT_PARTICIPANTE FAT\n",
        "\n",
        "\"\"\",1)"
      ],
      "metadata": {
        "colab": {
          "base_uri": "https://localhost:8080/"
        },
        "id": "sHGydwJ-LEA9",
        "outputId": "23c23218-71b8-467d-bfce-2d4769de56fa"
      },
      "execution_count": 40,
      "outputs": [
        {
          "output_type": "stream",
          "name": "stdout",
          "text": [
            "+-------------+----------------+----------------+-----------------+--------------+-------------------------+--------------------------+\n",
            "|TOT_INSCRITOS|TOT_CIENCIAS_NAT|TOT_CIENCIAS_HUM|TOT_LINGUAGEM_COD|TOT_MATEMATICA|TOT_AUSENTES_TODAS_PROVAS|PERC_AUSENTES_TODAS_PROVAS|\n",
            "+-------------+----------------+----------------+-----------------+--------------+-------------------------+--------------------------+\n",
            "|46740        |17137           |15869           |15869            |17137         |15806                    |33.82%                    |\n",
            "+-------------+----------------+----------------+-----------------+--------------+-------------------------+--------------------------+\n",
            "\n"
          ]
        }
      ]
    },
    {
      "cell_type": "code",
      "source": [
        "fn_query(\"\"\"\n",
        "  SELECT COUNT(NU_INSCRICAO) AS TOT_INSCRITOS FROM VW_FAT_PARTICIPANTE\n",
        "  \"\"\",1)"
      ],
      "metadata": {
        "colab": {
          "base_uri": "https://localhost:8080/"
        },
        "id": "TsKzleFoVK75",
        "outputId": "d73560c0-0bbb-4cf2-8439-7d1b19306d37"
      },
      "execution_count": 41,
      "outputs": [
        {
          "output_type": "stream",
          "name": "stdout",
          "text": [
            "+-------------+\n",
            "|TOT_INSCRITOS|\n",
            "+-------------+\n",
            "|46740        |\n",
            "+-------------+\n",
            "\n"
          ]
        }
      ]
    },
    {
      "cell_type": "code",
      "source": [
        "#  MEDIA DISCIPLINA\n",
        "\n",
        "fn_query(\"\"\"\n",
        "  SELECT\n",
        "  COUNT(FAT.NU_INSCRICAO) AS TOT_INSCRITOS,\n",
        "  ROUND(AVG( FAT.NU_NOTA_REDACAO + FAT.NU_NOTA_CN + FAT.NU_NOTA_CH + FAT.NU_NOTA_LC + FAT.NU_NOTA_MT ) / 5,2) MED_GERAL,\n",
        "  ROUND(AVG( FAT.NU_NOTA_REDACAO),2) MED_REDACAO,\n",
        "  ROUND(AVG( FAT.NU_NOTA_CN),2) MED_CIENCIAS_NAT,\n",
        "  ROUND(AVG( FAT.NU_NOTA_CH),2) MED_CIENCIAS_HUM,\n",
        "  ROUND(AVG( FAT.NU_NOTA_LC),2) MED_LINGUAGEM_COD,\n",
        "  ROUND(AVG( FAT.NU_NOTA_MT),2) MED_MATEMATICA\n",
        "\n",
        "  FROM VW_FAT_PARTICIPANTE FAT\n",
        "\n",
        "\"\"\",1)"
      ],
      "metadata": {
        "colab": {
          "base_uri": "https://localhost:8080/"
        },
        "id": "zx4_5GLKVelT",
        "outputId": "be8ea6a4-41dd-4749-ba8e-43fc8f5548e5"
      },
      "execution_count": 42,
      "outputs": [
        {
          "output_type": "stream",
          "name": "stdout",
          "text": [
            "+-------------+---------+-----------+----------------+----------------+-----------------+--------------+\n",
            "|TOT_INSCRITOS|MED_GERAL|MED_REDACAO|MED_CIENCIAS_NAT|MED_CIENCIAS_HUM|MED_LINGUAGEM_COD|MED_MATEMATICA|\n",
            "+-------------+---------+-----------+----------------+----------------+-----------------+--------------+\n",
            "|46740        |540.86   |629.3      |493.57          |521.86          |529.45           |519.57        |\n",
            "+-------------+---------+-----------+----------------+----------------+-----------------+--------------+\n",
            "\n"
          ]
        }
      ]
    },
    {
      "cell_type": "code",
      "source": [
        "#  MEDIA SEXO\n",
        "\n",
        "fn_query(\"\"\"\n",
        "  SELECT\n",
        "  COUNT(FAT.NU_INSCRICAO) AS TOT_INSCRITOS,\n",
        "  SEX.NOM_SEXO,\n",
        "  ROUND(AVG( FAT.NU_NOTA_REDACAO + FAT.NU_NOTA_CN + FAT.NU_NOTA_CH + FAT.NU_NOTA_LC + FAT.NU_NOTA_MT ) / 5,2) MED_GERAL,\n",
        "  ROUND(AVG( FAT.NU_NOTA_REDACAO),2) MED_REDACAO,\n",
        "  ROUND(AVG( FAT.NU_NOTA_CN),2) MED_CIENCIAS_NAT,\n",
        "  ROUND(AVG( FAT.NU_NOTA_CH),2) MED_CIENCIAS_HUM,\n",
        "  ROUND(AVG( FAT.NU_NOTA_LC),2) MED_LINGUAGEM_COD,\n",
        "  ROUND(AVG( FAT.NU_NOTA_MT),2) MED_MATEMATICA\n",
        "\n",
        "  FROM VW_FAT_PARTICIPANTE FAT\n",
        "    INNER JOIN VW_DIM_PRT_SEXO SEX\n",
        "      ON FAT.COD_TP_SEXO = SEX.COD_TP_SEXO\n",
        "  GROUP BY SEX.NOM_SEXO\n",
        "\n",
        "  ORDER BY MED_GERAL DESC\n",
        "\n",
        "\"\"\",2)"
      ],
      "metadata": {
        "colab": {
          "base_uri": "https://localhost:8080/"
        },
        "id": "20bAiAHlXdl6",
        "outputId": "9694f242-4c40-4901-c81b-31c4d4185ec6"
      },
      "execution_count": 43,
      "outputs": [
        {
          "output_type": "stream",
          "name": "stdout",
          "text": [
            "+-------------+---------+---------+-----------+----------------+----------------+-----------------+--------------+\n",
            "|TOT_INSCRITOS|NOM_SEXO |MED_GERAL|MED_REDACAO|MED_CIENCIAS_NAT|MED_CIENCIAS_HUM|MED_LINGUAGEM_COD|MED_MATEMATICA|\n",
            "+-------------+---------+---------+-----------+----------------+----------------+-----------------+--------------+\n",
            "|15234        |Masculino|549.55   |611.84     |509.52          |535.4           |530.96           |548.84        |\n",
            "|31506        |Feminino |536.75   |637.58     |486.02          |515.44          |528.74           |505.73        |\n",
            "+-------------+---------+---------+-----------+----------------+----------------+-----------------+--------------+\n",
            "\n"
          ]
        }
      ]
    },
    {
      "cell_type": "code",
      "source": [
        "#  MEDIA ETNIA\n",
        "\n",
        "fn_query(\"\"\"\n",
        "  SELECT\n",
        "  COUNT(FAT.NU_INSCRICAO) AS TOT_INSCRITOS,\n",
        "  RAC.NOM_COR_RACA,\n",
        "  ROUND(AVG( FAT.NU_NOTA_REDACAO + FAT.NU_NOTA_CN + FAT.NU_NOTA_CH + FAT.NU_NOTA_LC + FAT.NU_NOTA_MT ) / 5,2) MED_GERAL,\n",
        "  ROUND(AVG( FAT.NU_NOTA_REDACAO),2) MED_REDACAO,\n",
        "  ROUND(AVG( FAT.NU_NOTA_CN),2) MED_CIENCIAS_NAT,\n",
        "  ROUND(AVG( FAT.NU_NOTA_CH),2) MED_CIENCIAS_HUM,\n",
        "  ROUND(AVG( FAT.NU_NOTA_LC),2) MED_LINGUAGEM_COD,\n",
        "  ROUND(AVG( FAT.NU_NOTA_MT),2) MED_MATEMATICA\n",
        "\n",
        "  FROM VW_FAT_PARTICIPANTE FAT\n",
        "    INNER JOIN VW_DIM_PRT_RACA RAC\n",
        "      ON FAT.COD_RACA = RAC.COD_RACA\n",
        "  GROUP BY RAC.NOM_COR_RACA\n",
        "\n",
        "  ORDER BY MED_GERAL DESC\n",
        "\n",
        "\"\"\",8)"
      ],
      "metadata": {
        "colab": {
          "base_uri": "https://localhost:8080/"
        },
        "id": "BnZmWMA4Zi7n",
        "outputId": "7ec587c4-0f14-4736-9464-3dd5a81d1bfa"
      },
      "execution_count": 44,
      "outputs": [
        {
          "output_type": "stream",
          "name": "stdout",
          "text": [
            "+-------------+-------------+---------+-----------+----------------+----------------+-----------------+--------------+\n",
            "|TOT_INSCRITOS|NOM_COR_RACA |MED_GERAL|MED_REDACAO|MED_CIENCIAS_NAT|MED_CIENCIAS_HUM|MED_LINGUAGEM_COD|MED_MATEMATICA|\n",
            "+-------------+-------------+---------+-----------+----------------+----------------+-----------------+--------------+\n",
            "|15406        |Branca       |569.37   |668.78     |515.7           |547.63          |549.92           |554.74        |\n",
            "|1054         |Amarela      |535.67   |626.99     |490.01          |515.58          |522.14           |515.39        |\n",
            "|791          |Não declarado|532.91   |599.29     |490.96          |522.06          |523.8            |515.52        |\n",
            "|22990        |Parda        |527.25   |613.01     |482.67          |508.62          |519.05           |502.83        |\n",
            "|6233         |Preta        |519.15   |593.33     |477.29          |505.63          |517.26           |491.04        |\n",
            "|266          |Indígena     |503.62   |553.26     |468.75          |493.54          |506.27           |485.54        |\n",
            "+-------------+-------------+---------+-----------+----------------+----------------+-----------------+--------------+\n",
            "\n"
          ]
        }
      ]
    },
    {
      "cell_type": "code",
      "source": [],
      "metadata": {
        "id": "k-S0sDuodEjI"
      },
      "execution_count": 44,
      "outputs": []
    },
    {
      "cell_type": "code",
      "source": [],
      "metadata": {
        "id": "JlmH_VVYjyzH"
      },
      "execution_count": 44,
      "outputs": []
    },
    {
      "cell_type": "code",
      "source": [
        "#\n",
        "# trecho abaixo a fim de ver as tipagens de dados\n",
        "#"
      ],
      "metadata": {
        "id": "oIXo2jp0sIr2"
      },
      "execution_count": 45,
      "outputs": []
    },
    {
      "cell_type": "code",
      "source": [
        "df_dim_prt_situacao_escola.printSchema()\n",
        "df_dim_prt_faixa_etaria.printSchema()\n",
        "df_dim_prt_sexo.printSchema()\n",
        "df_dim_prt_estado_civil.printSchema()\n",
        "df_dim_prt_nacionalidade.printSchema()\n",
        "df_dim_prt_raca.printSchema()\n",
        "\n",
        "df_dim_prv_municipio.printSchema()\n",
        "\n",
        "df_dim_esc_dependencia.printSchema()\n",
        "df_dim_esc_localizacao.printSchema()\n",
        "df_dim_esc_situacao.printSchema()\n",
        "\n",
        "df_dim_prt_escola.printSchema()\n",
        "df_dim_prt_ensino.printSchema()\n",
        "\n",
        "df_dim_uf.printSchema()"
      ],
      "metadata": {
        "colab": {
          "base_uri": "https://localhost:8080/"
        },
        "id": "xQ6vj5KQwwER",
        "outputId": "c060b38c-7601-4d46-a125-34ebd2c381ea"
      },
      "execution_count": 46,
      "outputs": [
        {
          "output_type": "stream",
          "name": "stdout",
          "text": [
            "root\n",
            " |-- COD_ST_CONCLUSAO: integer (nullable = true)\n",
            " |-- NOM_ST_CONCLUSAO: string (nullable = true)\n",
            "\n",
            "root\n",
            " |-- COD_FAIXA_ETARIA: string (nullable = true)\n",
            " |-- NOM_FAIXA_ETARIA: string (nullable = true)\n",
            "\n",
            "root\n",
            " |-- COD_TP_SEXO: integer (nullable = true)\n",
            " |-- SIG_SEXO: string (nullable = true)\n",
            " |-- NOM_SEXO: string (nullable = true)\n",
            "\n",
            "root\n",
            " |-- COD_ESTADO_CIVIL: integer (nullable = true)\n",
            " |-- NOM_ESTADO_CIVIL: string (nullable = true)\n",
            "\n",
            "root\n",
            " |-- COD_NACIONALIDADE: integer (nullable = true)\n",
            " |-- NOM_NACIONALIDADE: string (nullable = true)\n",
            "\n",
            "root\n",
            " |-- COD_RACA: integer (nullable = true)\n",
            " |-- NOM_COR_RACA: string (nullable = true)\n",
            "\n",
            "root\n",
            " |-- COD_MUNICIPIO_PROVA: integer (nullable = true)\n",
            " |-- NOM_MUNICIPIO_PROVA: string (nullable = true)\n",
            " |-- COD_UF_PROVA: integer (nullable = true)\n",
            " |-- SIG_UF_PROVA: string (nullable = true)\n",
            "\n",
            "root\n",
            " |-- COD_DEPENDENCIA_ADM_ESC: integer (nullable = true)\n",
            " |-- NOM_DEPENDENCIA_ADM_ESC: string (nullable = true)\n",
            "\n",
            "root\n",
            " |-- COD_LOCALIZACAO_ESC: integer (nullable = true)\n",
            " |-- NOM_LOCALIZACAO_ESC: string (nullable = true)\n",
            "\n",
            "root\n",
            " |-- COD_SIT_FUNC_ESC: integer (nullable = true)\n",
            " |-- NOM_SIT_FUNC_ESC: string (nullable = true)\n",
            "\n",
            "root\n",
            " |-- COD_ESCOLA: integer (nullable = true)\n",
            " |-- NOM_ESCOLA: string (nullable = true)\n",
            "\n",
            "root\n",
            " |-- COD_ENSINO: integer (nullable = true)\n",
            " |-- NOM_ENSINO: string (nullable = true)\n",
            "\n",
            "root\n",
            " |-- COD_UF: integer (nullable = true)\n",
            " |-- SIG_UF: string (nullable = true)\n",
            "\n"
          ]
        }
      ]
    },
    {
      "cell_type": "code",
      "source": [
        "fat_participante.printSchema()\n",
        "fat_questionario.printSchema()"
      ],
      "metadata": {
        "id": "Yvs3AKjlwwGx",
        "colab": {
          "base_uri": "https://localhost:8080/"
        },
        "outputId": "5b32b592-7ce2-4a0b-91f2-3ea833aec217"
      },
      "execution_count": 47,
      "outputs": [
        {
          "output_type": "stream",
          "name": "stdout",
          "text": [
            "root\n",
            " |-- NU_INSCRICAO: long (nullable = true)\n",
            " |-- NU_ANO: long (nullable = true)\n",
            " |-- COD_FAIXA_ETARIA: string (nullable = true)\n",
            " |-- COD_TP_SEXO: integer (nullable = true)\n",
            " |-- COD_ESTADO_CIVIL: integer (nullable = true)\n",
            " |-- COD_NACIONALIDADE: integer (nullable = true)\n",
            " |-- COD_RACA: integer (nullable = true)\n",
            " |-- COD_ESCOLA: integer (nullable = true)\n",
            " |-- COD_ENSINO: integer (nullable = true)\n",
            " |-- COD_ST_CONCLUSAO: integer (nullable = true)\n",
            " |-- COD_MUNICIPIO_ESC: integer (nullable = true)\n",
            " |-- COD_UF_ESC: integer (nullable = true)\n",
            " |-- COD_LOCALIZACAO_ESC: integer (nullable = true)\n",
            " |-- COD_SIT_FUNC_ESC: integer (nullable = true)\n",
            " |-- COD_DEPENDENCIA_ADM_ESC: integer (nullable = true)\n",
            " |-- NOM_TREINEIRO: string (nullable = true)\n",
            " |-- COD_MUNICIPIO_PROVA: integer (nullable = true)\n",
            " |-- NU_NOTA_REDACAO: float (nullable = true)\n",
            " |-- NU_NOTA_CN: float (nullable = true)\n",
            " |-- NU_NOTA_CH: float (nullable = true)\n",
            " |-- NU_NOTA_LC: float (nullable = true)\n",
            " |-- NU_NOTA_MT: float (nullable = true)\n",
            " |-- COD_PRESENCA_CN: integer (nullable = true)\n",
            " |-- COD_PRESENCA_CH: integer (nullable = true)\n",
            " |-- COD_PRESENCA_LC: integer (nullable = true)\n",
            " |-- COD_PRESENCA_MT: integer (nullable = true)\n",
            "\n",
            "root\n",
            " |-- NU_INSCRICAO: long (nullable = true)\n",
            " |-- Q001: string (nullable = true)\n",
            " |-- Q002: string (nullable = true)\n",
            " |-- Q003: string (nullable = true)\n",
            " |-- Q004: string (nullable = true)\n",
            " |-- Q005: string (nullable = true)\n",
            " |-- Q006: string (nullable = true)\n",
            " |-- Q007: string (nullable = true)\n",
            " |-- Q008: string (nullable = true)\n",
            " |-- Q009: string (nullable = true)\n",
            " |-- Q010: string (nullable = true)\n",
            " |-- Q011: string (nullable = true)\n",
            " |-- Q012: string (nullable = true)\n",
            " |-- Q013: string (nullable = true)\n",
            " |-- Q014: string (nullable = true)\n",
            " |-- Q015: string (nullable = true)\n",
            " |-- Q016: string (nullable = true)\n",
            " |-- Q017: string (nullable = true)\n",
            " |-- Q018: string (nullable = true)\n",
            " |-- Q019: string (nullable = true)\n",
            " |-- Q020: string (nullable = true)\n",
            " |-- Q021: string (nullable = true)\n",
            " |-- Q022: string (nullable = true)\n",
            " |-- Q023: string (nullable = true)\n",
            " |-- Q024: string (nullable = true)\n",
            " |-- Q025: string (nullable = true)\n",
            "\n"
          ]
        }
      ]
    },
    {
      "cell_type": "code",
      "source": [
        "df_dim_presenca.printSchema()\n",
        "\n",
        "dim_aux_r001e2.printSchema()\n",
        "dim_aux_r003e4.printSchema()\n",
        "dim_aux_r006.printSchema()\n",
        "dim_aux_r007.printSchema()\n",
        "dim_aux_r008a24.printSchema()\n",
        "dim_aux_r018e20e21e23e25.printSchema()\n",
        "dim_aux_perguntas.printSchema()"
      ],
      "metadata": {
        "id": "YSRcmmaS81ao",
        "colab": {
          "base_uri": "https://localhost:8080/"
        },
        "outputId": "b15b8ba4-451f-4fde-da4a-e838a2a3c8e6"
      },
      "execution_count": 48,
      "outputs": [
        {
          "output_type": "stream",
          "name": "stdout",
          "text": [
            "root\n",
            " |-- COD_PRESENCA: integer (nullable = true)\n",
            " |-- NOM_PRESENCA: string (nullable = true)\n",
            "\n",
            "root\n",
            " |-- COD_RESPOSTA: string (nullable = false)\n",
            " |-- NOM_RESPOSTA: string (nullable = false)\n",
            "\n",
            "root\n",
            " |-- COD_RESPOSTA: string (nullable = false)\n",
            " |-- NOM_RESPOSTA: string (nullable = false)\n",
            "\n",
            "root\n",
            " |-- COD_RESPOSTA: string (nullable = false)\n",
            " |-- NOM_RESPOSTA: string (nullable = false)\n",
            "\n",
            "root\n",
            " |-- COD_RESPOSTA: string (nullable = false)\n",
            " |-- NOM_RESPOSTA: string (nullable = false)\n",
            "\n",
            "root\n",
            " |-- COD_RESPOSTA: string (nullable = false)\n",
            " |-- NOM_RESPOSTA: string (nullable = false)\n",
            "\n",
            "root\n",
            " |-- COD_RESPOSTA: string (nullable = false)\n",
            " |-- NOM_RESPOSTA: string (nullable = false)\n",
            "\n",
            "root\n",
            " |-- COD_QUESTAO: string (nullable = false)\n",
            " |-- NOM_PERGUNTAS: string (nullable = false)\n",
            "\n"
          ]
        }
      ]
    },
    {
      "cell_type": "code",
      "source": [],
      "metadata": {
        "id": "-nomdcwV8ZuK"
      },
      "execution_count": 48,
      "outputs": []
    },
    {
      "cell_type": "code",
      "source": [],
      "metadata": {
        "id": "izz98D-Y8Zyd"
      },
      "execution_count": 48,
      "outputs": []
    },
    {
      "cell_type": "code",
      "source": [
        "# tempo total de execução.\n",
        "\n",
        "fim = datetime.now()\n",
        "print(fim-inicio)"
      ],
      "metadata": {
        "id": "vQ2cF64ULATG",
        "colab": {
          "base_uri": "https://localhost:8080/"
        },
        "outputId": "efd08328-8ba6-41d7-a741-60719d15396e"
      },
      "execution_count": 49,
      "outputs": [
        {
          "output_type": "stream",
          "name": "stdout",
          "text": [
            "0:02:17.528731\n"
          ]
        }
      ]
    },
    {
      "cell_type": "markdown",
      "source": [
        "> Final do Codigo"
      ],
      "metadata": {
        "id": "BBkFfrAJndWW"
      }
    }
  ]
}